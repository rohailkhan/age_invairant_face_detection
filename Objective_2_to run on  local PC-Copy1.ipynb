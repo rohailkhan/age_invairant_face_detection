{
 "cells": [
  {
   "cell_type": "markdown",
   "metadata": {
    "colab_type": "text",
    "id": "5xjJqpDwSeav"
   },
   "source": [
    "# Objective-2 Time Invariant Face Recognition "
   ]
  },
  {
   "cell_type": "markdown",
   "metadata": {
    "colab_type": "text",
    "id": "ZmvWY5jySZZo"
   },
   "source": [
    "# Importing Libraries"
   ]
  },
  {
   "cell_type": "code",
   "execution_count": 1,
   "metadata": {},
   "outputs": [
    {
     "name": "stdout",
     "output_type": "stream",
     "text": [
      "2.1.0\n"
     ]
    }
   ],
   "source": [
    "import tensorflow as tf\n",
    "print(tf.__version__)"
   ]
  },
  {
   "cell_type": "code",
   "execution_count": 2,
   "metadata": {
    "colab": {},
    "colab_type": "code",
    "id": "SnvsFBji40ko"
   },
   "outputs": [],
   "source": [
    "# for reproducibility\n",
    "import numpy as np\n",
    "np.random.seed(1337) "
   ]
  },
  {
   "cell_type": "code",
   "execution_count": 3,
   "metadata": {
    "colab": {},
    "colab_type": "code",
    "id": "2yhsX-nHTDUy"
   },
   "outputs": [
    {
     "name": "stderr",
     "output_type": "stream",
     "text": [
      "Using TensorFlow backend.\n"
     ]
    }
   ],
   "source": [
    "from keras.models import Sequential\n",
    "from keras.callbacks import EarlyStopping,TensorBoard\n",
    "\n",
    "from keras_preprocessing.image import ImageDataGenerator \n",
    "from keras.layers import Dense, Activation, Flatten, Dropout, BatchNormalization\n",
    "from keras.layers import Conv2D, MaxPooling2D\n",
    "from keras import regularizers, optimizers\n",
    "import pandas as pd\n",
    "import os ,PIL\n",
    "import matplotlib.pyplot as plt"
   ]
  },
  {
   "cell_type": "markdown",
   "metadata": {
    "colab_type": "text",
    "id": "G1FUdqK7TV-h"
   },
   "source": [
    "# Mounting the drive"
   ]
  },
  {
   "cell_type": "code",
   "execution_count": 4,
   "metadata": {
    "colab": {
     "base_uri": "https://localhost:8080/",
     "height": 129
    },
    "colab_type": "code",
    "id": "uEoT34kE05yU",
    "outputId": "12edcb35-7836-4dfc-f706-85944ea53cf5"
   },
   "outputs": [],
   "source": [
    "# from google.colab import drive\n",
    "# drive.mount('/content/drive')"
   ]
  },
  {
   "cell_type": "markdown",
   "metadata": {
    "colab_type": "text",
    "id": "509oVvTZC8X4"
   },
   "source": [
    "# Location of folder with image data"
   ]
  },
  {
   "cell_type": "code",
   "execution_count": 5,
   "metadata": {
    "colab": {},
    "colab_type": "code",
    "id": "Rez5bZLBDCAe"
   },
   "outputs": [],
   "source": [
    "# data_folder_location='/content/drive/My Drive/Aging model/fg'"
   ]
  },
  {
   "cell_type": "markdown",
   "metadata": {
    "colab_type": "text",
    "id": "sTL0_vRsvPF9"
   },
   "source": [
    "# Data Preprocessing\n",
    "## Putting all files into a single dataframe"
   ]
  },
  {
   "cell_type": "code",
   "execution_count": 6,
   "metadata": {
    "colab": {},
    "colab_type": "code",
    "id": "SJqz0KCovSHm"
   },
   "outputs": [],
   "source": [
    "# # Put all files into a single dataframe\n",
    "# list_dir = [i for i in os.listdir('/content/drive/My Drive/Aging model/datafiles')]\n",
    "# final_df = pd.DataFrame(columns=['ID','Facial Index','Mandibular Index','Intercantal Index','Orbital Width Index','Eye Fissure Index','Vermilion Height Index','Mouth Face Width Index','AGE'])\n",
    "# interim_df = pd.DataFrame(columns=['ID','Facial Index','Mandibular Index','Intercantal Index','Orbital Width Index','Eye Fissure Index','Vermilion Height Index','Mouth Face Width Index','AGE'])\n",
    "# age_list=list()\n",
    "# for d in list_dir:\n",
    "#     interim_df.at[0,  ['Facial Index','Mandibular Index','Intercantal Index','Orbital Width Index','Eye Fissure Index','Vermilion Height Index','Mouth Face Width Index']] = pd.read_csv('/content/drive/My Drive/Aging model/datafiles/'+d, sep=\" \", header=None).values[0][:7]\n",
    "#     interim_df['AGE'] = int(d[4:].replace('.txt','').replace('a','').replace('b',''))\n",
    "#     interim_df['ID'] = int(d[:3])\n",
    "#     final_df = pd.concat([final_df,interim_df])\n",
    "    \n",
    "# # sort values by age of same person\n",
    "# final_df = final_df.sort_values(['ID','AGE'],ascending=True)"
   ]
  },
  {
   "cell_type": "code",
   "execution_count": 7,
   "metadata": {
    "colab": {},
    "colab_type": "code",
    "id": "CYd6hJYjvR9X"
   },
   "outputs": [],
   "source": [
    "# #saving the dataframe\n",
    "# final_df.to_csv('/content/drive/My Drive/Aging model/new/final_df.csv',index=False)"
   ]
  },
  {
   "cell_type": "code",
   "execution_count": 8,
   "metadata": {},
   "outputs": [],
   "source": [
    "dir=os.getcwd()"
   ]
  },
  {
   "cell_type": "code",
   "execution_count": 9,
   "metadata": {
    "colab": {},
    "colab_type": "code",
    "id": "ibME3kdLvR19"
   },
   "outputs": [],
   "source": [
    "final_df=pd.read_csv(dir +'/final_df.csv')"
   ]
  },
  {
   "cell_type": "code",
   "execution_count": 10,
   "metadata": {
    "colab": {
     "base_uri": "https://localhost:8080/",
     "height": 241
    },
    "colab_type": "code",
    "id": "FjijsuYdvRt4",
    "outputId": "56edc34c-9561-4c4f-fa14-595afa3dcf14"
   },
   "outputs": [
    {
     "data": {
      "text/html": [
       "<div>\n",
       "<style scoped>\n",
       "    .dataframe tbody tr th:only-of-type {\n",
       "        vertical-align: middle;\n",
       "    }\n",
       "\n",
       "    .dataframe tbody tr th {\n",
       "        vertical-align: top;\n",
       "    }\n",
       "\n",
       "    .dataframe thead th {\n",
       "        text-align: right;\n",
       "    }\n",
       "</style>\n",
       "<table border=\"1\" class=\"dataframe\">\n",
       "  <thead>\n",
       "    <tr style=\"text-align: right;\">\n",
       "      <th></th>\n",
       "      <th>ID</th>\n",
       "      <th>Facial Index</th>\n",
       "      <th>Mandibular Index</th>\n",
       "      <th>Intercantal Index</th>\n",
       "      <th>Orbital Width Index</th>\n",
       "      <th>Eye Fissure Index</th>\n",
       "      <th>Vermilion Height Index</th>\n",
       "      <th>Mouth Face Width Index</th>\n",
       "      <th>AGE</th>\n",
       "    </tr>\n",
       "  </thead>\n",
       "  <tbody>\n",
       "    <tr>\n",
       "      <th>0</th>\n",
       "      <td>1</td>\n",
       "      <td>0.806070</td>\n",
       "      <td>0.336661</td>\n",
       "      <td>0.390837</td>\n",
       "      <td>0.828399</td>\n",
       "      <td>0.521382</td>\n",
       "      <td>0.599030</td>\n",
       "      <td>0.346350</td>\n",
       "      <td>2</td>\n",
       "    </tr>\n",
       "    <tr>\n",
       "      <th>1</th>\n",
       "      <td>1</td>\n",
       "      <td>0.852819</td>\n",
       "      <td>0.442643</td>\n",
       "      <td>0.386980</td>\n",
       "      <td>0.774311</td>\n",
       "      <td>0.461004</td>\n",
       "      <td>0.659254</td>\n",
       "      <td>0.393676</td>\n",
       "      <td>5</td>\n",
       "    </tr>\n",
       "    <tr>\n",
       "      <th>2</th>\n",
       "      <td>1</td>\n",
       "      <td>0.877282</td>\n",
       "      <td>0.404491</td>\n",
       "      <td>0.442716</td>\n",
       "      <td>0.675757</td>\n",
       "      <td>0.358158</td>\n",
       "      <td>0.306820</td>\n",
       "      <td>0.384508</td>\n",
       "      <td>8</td>\n",
       "    </tr>\n",
       "    <tr>\n",
       "      <th>3</th>\n",
       "      <td>1</td>\n",
       "      <td>0.883831</td>\n",
       "      <td>0.395061</td>\n",
       "      <td>0.415456</td>\n",
       "      <td>0.698110</td>\n",
       "      <td>0.419721</td>\n",
       "      <td>0.409635</td>\n",
       "      <td>0.361281</td>\n",
       "      <td>10</td>\n",
       "    </tr>\n",
       "    <tr>\n",
       "      <th>4</th>\n",
       "      <td>1</td>\n",
       "      <td>0.892233</td>\n",
       "      <td>0.408905</td>\n",
       "      <td>0.421452</td>\n",
       "      <td>0.690838</td>\n",
       "      <td>0.414924</td>\n",
       "      <td>0.511849</td>\n",
       "      <td>0.428505</td>\n",
       "      <td>14</td>\n",
       "    </tr>\n",
       "    <tr>\n",
       "      <th>5</th>\n",
       "      <td>1</td>\n",
       "      <td>0.944314</td>\n",
       "      <td>0.407135</td>\n",
       "      <td>0.408512</td>\n",
       "      <td>0.743147</td>\n",
       "      <td>0.440906</td>\n",
       "      <td>0.666368</td>\n",
       "      <td>0.396383</td>\n",
       "      <td>16</td>\n",
       "    </tr>\n",
       "    <tr>\n",
       "      <th>6</th>\n",
       "      <td>1</td>\n",
       "      <td>0.938624</td>\n",
       "      <td>0.454377</td>\n",
       "      <td>0.402658</td>\n",
       "      <td>0.758165</td>\n",
       "      <td>0.442331</td>\n",
       "      <td>0.901291</td>\n",
       "      <td>0.483564</td>\n",
       "      <td>18</td>\n",
       "    </tr>\n",
       "    <tr>\n",
       "      <th>7</th>\n",
       "      <td>1</td>\n",
       "      <td>1.024863</td>\n",
       "      <td>0.554703</td>\n",
       "      <td>0.452378</td>\n",
       "      <td>0.474424</td>\n",
       "      <td>0.469262</td>\n",
       "      <td>0.855291</td>\n",
       "      <td>0.362965</td>\n",
       "      <td>19</td>\n",
       "    </tr>\n",
       "    <tr>\n",
       "      <th>8</th>\n",
       "      <td>1</td>\n",
       "      <td>0.978536</td>\n",
       "      <td>0.473956</td>\n",
       "      <td>0.431465</td>\n",
       "      <td>0.604435</td>\n",
       "      <td>0.408842</td>\n",
       "      <td>0.749188</td>\n",
       "      <td>0.407392</td>\n",
       "      <td>22</td>\n",
       "    </tr>\n",
       "    <tr>\n",
       "      <th>9</th>\n",
       "      <td>1</td>\n",
       "      <td>1.019712</td>\n",
       "      <td>0.487711</td>\n",
       "      <td>0.462661</td>\n",
       "      <td>0.578721</td>\n",
       "      <td>0.349971</td>\n",
       "      <td>0.436990</td>\n",
       "      <td>0.439276</td>\n",
       "      <td>28</td>\n",
       "    </tr>\n",
       "  </tbody>\n",
       "</table>\n",
       "</div>"
      ],
      "text/plain": [
       "   ID  Facial Index  Mandibular Index  Intercantal Index  Orbital Width Index  \\\n",
       "0   1      0.806070          0.336661           0.390837             0.828399   \n",
       "1   1      0.852819          0.442643           0.386980             0.774311   \n",
       "2   1      0.877282          0.404491           0.442716             0.675757   \n",
       "3   1      0.883831          0.395061           0.415456             0.698110   \n",
       "4   1      0.892233          0.408905           0.421452             0.690838   \n",
       "5   1      0.944314          0.407135           0.408512             0.743147   \n",
       "6   1      0.938624          0.454377           0.402658             0.758165   \n",
       "7   1      1.024863          0.554703           0.452378             0.474424   \n",
       "8   1      0.978536          0.473956           0.431465             0.604435   \n",
       "9   1      1.019712          0.487711           0.462661             0.578721   \n",
       "\n",
       "   Eye Fissure Index  Vermilion Height Index  Mouth Face Width Index  AGE  \n",
       "0           0.521382                0.599030                0.346350    2  \n",
       "1           0.461004                0.659254                0.393676    5  \n",
       "2           0.358158                0.306820                0.384508    8  \n",
       "3           0.419721                0.409635                0.361281   10  \n",
       "4           0.414924                0.511849                0.428505   14  \n",
       "5           0.440906                0.666368                0.396383   16  \n",
       "6           0.442331                0.901291                0.483564   18  \n",
       "7           0.469262                0.855291                0.362965   19  \n",
       "8           0.408842                0.749188                0.407392   22  \n",
       "9           0.349971                0.436990                0.439276   28  "
      ]
     },
     "execution_count": 10,
     "metadata": {},
     "output_type": "execute_result"
    }
   ],
   "source": [
    "final_df.head(10)"
   ]
  },
  {
   "cell_type": "code",
   "execution_count": 11,
   "metadata": {
    "colab": {
     "base_uri": "https://localhost:8080/",
     "height": 241
    },
    "colab_type": "code",
    "id": "NRjJqENKUMks",
    "outputId": "17912be0-09b5-4808-ba38-dba9bc6c5688"
   },
   "outputs": [
    {
     "data": {
      "text/html": [
       "<div>\n",
       "<style scoped>\n",
       "    .dataframe tbody tr th:only-of-type {\n",
       "        vertical-align: middle;\n",
       "    }\n",
       "\n",
       "    .dataframe tbody tr th {\n",
       "        vertical-align: top;\n",
       "    }\n",
       "\n",
       "    .dataframe thead th {\n",
       "        text-align: right;\n",
       "    }\n",
       "</style>\n",
       "<table border=\"1\" class=\"dataframe\">\n",
       "  <thead>\n",
       "    <tr style=\"text-align: right;\">\n",
       "      <th></th>\n",
       "      <th>ID</th>\n",
       "      <th>Facial Index</th>\n",
       "      <th>Mandibular Index</th>\n",
       "      <th>Intercantal Index</th>\n",
       "      <th>Orbital Width Index</th>\n",
       "      <th>Eye Fissure Index</th>\n",
       "      <th>Vermilion Height Index</th>\n",
       "      <th>Mouth Face Width Index</th>\n",
       "      <th>AGE</th>\n",
       "    </tr>\n",
       "  </thead>\n",
       "  <tbody>\n",
       "    <tr>\n",
       "      <th>992</th>\n",
       "      <td>82</td>\n",
       "      <td>0.823877</td>\n",
       "      <td>0.400643</td>\n",
       "      <td>0.389182</td>\n",
       "      <td>0.799787</td>\n",
       "      <td>0.455590</td>\n",
       "      <td>0.469132</td>\n",
       "      <td>0.304340</td>\n",
       "      <td>3</td>\n",
       "    </tr>\n",
       "    <tr>\n",
       "      <th>993</th>\n",
       "      <td>82</td>\n",
       "      <td>0.956653</td>\n",
       "      <td>0.436934</td>\n",
       "      <td>0.390209</td>\n",
       "      <td>0.783629</td>\n",
       "      <td>0.394072</td>\n",
       "      <td>0.555210</td>\n",
       "      <td>0.398375</td>\n",
       "      <td>16</td>\n",
       "    </tr>\n",
       "    <tr>\n",
       "      <th>994</th>\n",
       "      <td>82</td>\n",
       "      <td>0.999093</td>\n",
       "      <td>0.510771</td>\n",
       "      <td>0.387691</td>\n",
       "      <td>0.752627</td>\n",
       "      <td>0.389192</td>\n",
       "      <td>0.440878</td>\n",
       "      <td>0.367898</td>\n",
       "      <td>18</td>\n",
       "    </tr>\n",
       "    <tr>\n",
       "      <th>995</th>\n",
       "      <td>82</td>\n",
       "      <td>0.961396</td>\n",
       "      <td>0.486345</td>\n",
       "      <td>0.373479</td>\n",
       "      <td>0.883768</td>\n",
       "      <td>0.357279</td>\n",
       "      <td>0.411729</td>\n",
       "      <td>0.388931</td>\n",
       "      <td>20</td>\n",
       "    </tr>\n",
       "    <tr>\n",
       "      <th>996</th>\n",
       "      <td>82</td>\n",
       "      <td>0.944901</td>\n",
       "      <td>0.469341</td>\n",
       "      <td>0.421650</td>\n",
       "      <td>0.657527</td>\n",
       "      <td>0.342256</td>\n",
       "      <td>0.299782</td>\n",
       "      <td>0.377414</td>\n",
       "      <td>21</td>\n",
       "    </tr>\n",
       "    <tr>\n",
       "      <th>997</th>\n",
       "      <td>82</td>\n",
       "      <td>0.971190</td>\n",
       "      <td>0.456241</td>\n",
       "      <td>0.431464</td>\n",
       "      <td>0.688562</td>\n",
       "      <td>0.362097</td>\n",
       "      <td>0.776495</td>\n",
       "      <td>0.421004</td>\n",
       "      <td>22</td>\n",
       "    </tr>\n",
       "    <tr>\n",
       "      <th>998</th>\n",
       "      <td>82</td>\n",
       "      <td>0.922055</td>\n",
       "      <td>0.457388</td>\n",
       "      <td>0.366031</td>\n",
       "      <td>0.807954</td>\n",
       "      <td>0.402890</td>\n",
       "      <td>0.800289</td>\n",
       "      <td>0.386978</td>\n",
       "      <td>23</td>\n",
       "    </tr>\n",
       "    <tr>\n",
       "      <th>999</th>\n",
       "      <td>82</td>\n",
       "      <td>0.948693</td>\n",
       "      <td>0.473651</td>\n",
       "      <td>0.409538</td>\n",
       "      <td>0.731037</td>\n",
       "      <td>0.290797</td>\n",
       "      <td>0.600109</td>\n",
       "      <td>0.465623</td>\n",
       "      <td>25</td>\n",
       "    </tr>\n",
       "    <tr>\n",
       "      <th>1000</th>\n",
       "      <td>82</td>\n",
       "      <td>0.914195</td>\n",
       "      <td>0.500786</td>\n",
       "      <td>0.416904</td>\n",
       "      <td>0.543606</td>\n",
       "      <td>0.480518</td>\n",
       "      <td>0.876548</td>\n",
       "      <td>0.394899</td>\n",
       "      <td>27</td>\n",
       "    </tr>\n",
       "    <tr>\n",
       "      <th>1001</th>\n",
       "      <td>82</td>\n",
       "      <td>0.915017</td>\n",
       "      <td>0.478165</td>\n",
       "      <td>0.404374</td>\n",
       "      <td>0.681841</td>\n",
       "      <td>0.316847</td>\n",
       "      <td>0.735635</td>\n",
       "      <td>0.450559</td>\n",
       "      <td>31</td>\n",
       "    </tr>\n",
       "  </tbody>\n",
       "</table>\n",
       "</div>"
      ],
      "text/plain": [
       "      ID  Facial Index  Mandibular Index  Intercantal Index  \\\n",
       "992   82      0.823877          0.400643           0.389182   \n",
       "993   82      0.956653          0.436934           0.390209   \n",
       "994   82      0.999093          0.510771           0.387691   \n",
       "995   82      0.961396          0.486345           0.373479   \n",
       "996   82      0.944901          0.469341           0.421650   \n",
       "997   82      0.971190          0.456241           0.431464   \n",
       "998   82      0.922055          0.457388           0.366031   \n",
       "999   82      0.948693          0.473651           0.409538   \n",
       "1000  82      0.914195          0.500786           0.416904   \n",
       "1001  82      0.915017          0.478165           0.404374   \n",
       "\n",
       "      Orbital Width Index  Eye Fissure Index  Vermilion Height Index  \\\n",
       "992              0.799787           0.455590                0.469132   \n",
       "993              0.783629           0.394072                0.555210   \n",
       "994              0.752627           0.389192                0.440878   \n",
       "995              0.883768           0.357279                0.411729   \n",
       "996              0.657527           0.342256                0.299782   \n",
       "997              0.688562           0.362097                0.776495   \n",
       "998              0.807954           0.402890                0.800289   \n",
       "999              0.731037           0.290797                0.600109   \n",
       "1000             0.543606           0.480518                0.876548   \n",
       "1001             0.681841           0.316847                0.735635   \n",
       "\n",
       "      Mouth Face Width Index  AGE  \n",
       "992                 0.304340    3  \n",
       "993                 0.398375   16  \n",
       "994                 0.367898   18  \n",
       "995                 0.388931   20  \n",
       "996                 0.377414   21  \n",
       "997                 0.421004   22  \n",
       "998                 0.386978   23  \n",
       "999                 0.465623   25  \n",
       "1000                0.394899   27  \n",
       "1001                0.450559   31  "
      ]
     },
     "execution_count": 11,
     "metadata": {},
     "output_type": "execute_result"
    }
   ],
   "source": [
    "final_df.tail(10)"
   ]
  },
  {
   "cell_type": "markdown",
   "metadata": {
    "colab_type": "text",
    "id": "WWFgHJxWwCJe"
   },
   "source": [
    "# Removing un necessary columns\n"
   ]
  },
  {
   "cell_type": "code",
   "execution_count": 12,
   "metadata": {
    "colab": {},
    "colab_type": "code",
    "id": "v-UDbu1bwJxC"
   },
   "outputs": [],
   "source": [
    "# removing the un necessary features\n",
    "final_df.drop(final_df.columns[[1,2,3,4,5,6,7]], axis = 1, inplace = True) "
   ]
  },
  {
   "cell_type": "code",
   "execution_count": 13,
   "metadata": {
    "colab": {
     "base_uri": "https://localhost:8080/",
     "height": 144
    },
    "colab_type": "code",
    "id": "8ffKKiJSwJnP",
    "outputId": "034c37e8-5ad0-449f-be90-e1fdbc6725a8"
   },
   "outputs": [
    {
     "data": {
      "text/html": [
       "<div>\n",
       "<style scoped>\n",
       "    .dataframe tbody tr th:only-of-type {\n",
       "        vertical-align: middle;\n",
       "    }\n",
       "\n",
       "    .dataframe tbody tr th {\n",
       "        vertical-align: top;\n",
       "    }\n",
       "\n",
       "    .dataframe thead th {\n",
       "        text-align: right;\n",
       "    }\n",
       "</style>\n",
       "<table border=\"1\" class=\"dataframe\">\n",
       "  <thead>\n",
       "    <tr style=\"text-align: right;\">\n",
       "      <th></th>\n",
       "      <th>ID</th>\n",
       "      <th>AGE</th>\n",
       "    </tr>\n",
       "  </thead>\n",
       "  <tbody>\n",
       "    <tr>\n",
       "      <th>0</th>\n",
       "      <td>1</td>\n",
       "      <td>2</td>\n",
       "    </tr>\n",
       "    <tr>\n",
       "      <th>1</th>\n",
       "      <td>1</td>\n",
       "      <td>5</td>\n",
       "    </tr>\n",
       "    <tr>\n",
       "      <th>2</th>\n",
       "      <td>1</td>\n",
       "      <td>8</td>\n",
       "    </tr>\n",
       "    <tr>\n",
       "      <th>3</th>\n",
       "      <td>1</td>\n",
       "      <td>10</td>\n",
       "    </tr>\n",
       "    <tr>\n",
       "      <th>4</th>\n",
       "      <td>1</td>\n",
       "      <td>14</td>\n",
       "    </tr>\n",
       "    <tr>\n",
       "      <th>5</th>\n",
       "      <td>1</td>\n",
       "      <td>16</td>\n",
       "    </tr>\n",
       "    <tr>\n",
       "      <th>6</th>\n",
       "      <td>1</td>\n",
       "      <td>18</td>\n",
       "    </tr>\n",
       "    <tr>\n",
       "      <th>7</th>\n",
       "      <td>1</td>\n",
       "      <td>19</td>\n",
       "    </tr>\n",
       "    <tr>\n",
       "      <th>8</th>\n",
       "      <td>1</td>\n",
       "      <td>22</td>\n",
       "    </tr>\n",
       "    <tr>\n",
       "      <th>9</th>\n",
       "      <td>1</td>\n",
       "      <td>28</td>\n",
       "    </tr>\n",
       "  </tbody>\n",
       "</table>\n",
       "</div>"
      ],
      "text/plain": [
       "   ID  AGE\n",
       "0   1    2\n",
       "1   1    5\n",
       "2   1    8\n",
       "3   1   10\n",
       "4   1   14\n",
       "5   1   16\n",
       "6   1   18\n",
       "7   1   19\n",
       "8   1   22\n",
       "9   1   28"
      ]
     },
     "execution_count": 13,
     "metadata": {},
     "output_type": "execute_result"
    }
   ],
   "source": [
    "final_df.head(10)"
   ]
  },
  {
   "cell_type": "code",
   "execution_count": 14,
   "metadata": {
    "colab": {
     "base_uri": "https://localhost:8080/",
     "height": 144
    },
    "colab_type": "code",
    "id": "m6ZEVBJHwJci",
    "outputId": "3b33e74d-235b-4386-d7ca-838745e1da83"
   },
   "outputs": [
    {
     "data": {
      "text/html": [
       "<div>\n",
       "<style scoped>\n",
       "    .dataframe tbody tr th:only-of-type {\n",
       "        vertical-align: middle;\n",
       "    }\n",
       "\n",
       "    .dataframe tbody tr th {\n",
       "        vertical-align: top;\n",
       "    }\n",
       "\n",
       "    .dataframe thead th {\n",
       "        text-align: right;\n",
       "    }\n",
       "</style>\n",
       "<table border=\"1\" class=\"dataframe\">\n",
       "  <thead>\n",
       "    <tr style=\"text-align: right;\">\n",
       "      <th></th>\n",
       "      <th>ID</th>\n",
       "      <th>AGE</th>\n",
       "    </tr>\n",
       "  </thead>\n",
       "  <tbody>\n",
       "    <tr>\n",
       "      <th>992</th>\n",
       "      <td>82</td>\n",
       "      <td>3</td>\n",
       "    </tr>\n",
       "    <tr>\n",
       "      <th>993</th>\n",
       "      <td>82</td>\n",
       "      <td>16</td>\n",
       "    </tr>\n",
       "    <tr>\n",
       "      <th>994</th>\n",
       "      <td>82</td>\n",
       "      <td>18</td>\n",
       "    </tr>\n",
       "    <tr>\n",
       "      <th>995</th>\n",
       "      <td>82</td>\n",
       "      <td>20</td>\n",
       "    </tr>\n",
       "    <tr>\n",
       "      <th>996</th>\n",
       "      <td>82</td>\n",
       "      <td>21</td>\n",
       "    </tr>\n",
       "    <tr>\n",
       "      <th>997</th>\n",
       "      <td>82</td>\n",
       "      <td>22</td>\n",
       "    </tr>\n",
       "    <tr>\n",
       "      <th>998</th>\n",
       "      <td>82</td>\n",
       "      <td>23</td>\n",
       "    </tr>\n",
       "    <tr>\n",
       "      <th>999</th>\n",
       "      <td>82</td>\n",
       "      <td>25</td>\n",
       "    </tr>\n",
       "    <tr>\n",
       "      <th>1000</th>\n",
       "      <td>82</td>\n",
       "      <td>27</td>\n",
       "    </tr>\n",
       "    <tr>\n",
       "      <th>1001</th>\n",
       "      <td>82</td>\n",
       "      <td>31</td>\n",
       "    </tr>\n",
       "  </tbody>\n",
       "</table>\n",
       "</div>"
      ],
      "text/plain": [
       "      ID  AGE\n",
       "992   82    3\n",
       "993   82   16\n",
       "994   82   18\n",
       "995   82   20\n",
       "996   82   21\n",
       "997   82   22\n",
       "998   82   23\n",
       "999   82   25\n",
       "1000  82   27\n",
       "1001  82   31"
      ]
     },
     "execution_count": 14,
     "metadata": {},
     "output_type": "execute_result"
    }
   ],
   "source": [
    "final_df.tail(10)"
   ]
  },
  {
   "cell_type": "markdown",
   "metadata": {
    "colab_type": "text",
    "id": "aFew8eQKwWl6"
   },
   "source": [
    "## Class distribution"
   ]
  },
  {
   "cell_type": "code",
   "execution_count": 15,
   "metadata": {
    "colab": {
     "base_uri": "https://localhost:8080/",
     "height": 295
    },
    "colab_type": "code",
    "id": "CG5t16G8v0pb",
    "outputId": "a3472b39-dc4d-4fd8-b410-ee554ca0ada1"
   },
   "outputs": [
    {
     "data": {
      "image/png": "[encoded data removed]",
      "text/plain": [
       "<Figure size 432x288 with 1 Axes>"
      ]
     },
     "metadata": {
      "needs_background": "light"
     },
     "output_type": "display_data"
    }
   ],
   "source": [
    "classes=final_df[['ID']].values\n",
    "unique, counts = np.unique(classes, return_counts=True)\n",
    "plt.bar(unique,counts)\n",
    "plt.title('Class Frequency')\n",
    "plt.xlabel('Class')\n",
    "plt.ylabel('Frequency')\n",
    "plt.show()"
   ]
  },
  {
   "cell_type": "markdown",
   "metadata": {
    "colab_type": "text",
    "id": "WN0u68R2wrLP"
   },
   "source": [
    "## One hot encoding of the target labels"
   ]
  },
  {
   "cell_type": "code",
   "execution_count": 16,
   "metadata": {
    "colab": {},
    "colab_type": "code",
    "id": "2NzIb03-wabR"
   },
   "outputs": [],
   "source": [
    "# # use pd.concat to join the new columns with your original dataframe\n",
    "# df = pd.concat([final_df['ID'],pd.get_dummies(final_df['ID'], prefix='person')],axis=1)"
   ]
  },
  {
   "cell_type": "code",
   "execution_count": 17,
   "metadata": {
    "colab": {},
    "colab_type": "code",
    "id": "rmlIkKSKC91e"
   },
   "outputs": [],
   "source": [
    "# #saving the dataframe\n",
    "# df.to_csv('/content/drive/My Drive/Aging model/new/df.csv',index=False)"
   ]
  },
  {
   "cell_type": "code",
   "execution_count": 18,
   "metadata": {
    "colab": {},
    "colab_type": "code",
    "id": "Fbs4npA_6nhJ"
   },
   "outputs": [],
   "source": [
    "df=pd.read_csv(dir +'/df.csv')"
   ]
  },
  {
   "cell_type": "code",
   "execution_count": 19,
   "metadata": {
    "colab": {
     "base_uri": "https://localhost:8080/",
     "height": 255
    },
    "colab_type": "code",
    "id": "338zvV0CwBKP",
    "outputId": "c71e64e1-808d-411e-cdc3-221721e68fce"
   },
   "outputs": [
    {
     "data": {
      "text/html": [
       "<div>\n",
       "<style scoped>\n",
       "    .dataframe tbody tr th:only-of-type {\n",
       "        vertical-align: middle;\n",
       "    }\n",
       "\n",
       "    .dataframe tbody tr th {\n",
       "        vertical-align: top;\n",
       "    }\n",
       "\n",
       "    .dataframe thead th {\n",
       "        text-align: right;\n",
       "    }\n",
       "</style>\n",
       "<table border=\"1\" class=\"dataframe\">\n",
       "  <thead>\n",
       "    <tr style=\"text-align: right;\">\n",
       "      <th></th>\n",
       "      <th>ID</th>\n",
       "      <th>person_1</th>\n",
       "      <th>person_2</th>\n",
       "      <th>person_3</th>\n",
       "      <th>person_4</th>\n",
       "      <th>person_5</th>\n",
       "      <th>person_6</th>\n",
       "      <th>person_7</th>\n",
       "      <th>person_8</th>\n",
       "      <th>person_9</th>\n",
       "      <th>...</th>\n",
       "      <th>person_74</th>\n",
       "      <th>person_75</th>\n",
       "      <th>person_76</th>\n",
       "      <th>person_77</th>\n",
       "      <th>person_78</th>\n",
       "      <th>person_79</th>\n",
       "      <th>person_80</th>\n",
       "      <th>person_81</th>\n",
       "      <th>person_82</th>\n",
       "      <th>file_name</th>\n",
       "    </tr>\n",
       "  </thead>\n",
       "  <tbody>\n",
       "    <tr>\n",
       "      <th>0</th>\n",
       "      <td>1</td>\n",
       "      <td>1</td>\n",
       "      <td>0</td>\n",
       "      <td>0</td>\n",
       "      <td>0</td>\n",
       "      <td>0</td>\n",
       "      <td>0</td>\n",
       "      <td>0</td>\n",
       "      <td>0</td>\n",
       "      <td>0</td>\n",
       "      <td>...</td>\n",
       "      <td>0</td>\n",
       "      <td>0</td>\n",
       "      <td>0</td>\n",
       "      <td>0</td>\n",
       "      <td>0</td>\n",
       "      <td>0</td>\n",
       "      <td>0</td>\n",
       "      <td>0</td>\n",
       "      <td>0</td>\n",
       "      <td>001A02.JPG</td>\n",
       "    </tr>\n",
       "    <tr>\n",
       "      <th>1</th>\n",
       "      <td>1</td>\n",
       "      <td>1</td>\n",
       "      <td>0</td>\n",
       "      <td>0</td>\n",
       "      <td>0</td>\n",
       "      <td>0</td>\n",
       "      <td>0</td>\n",
       "      <td>0</td>\n",
       "      <td>0</td>\n",
       "      <td>0</td>\n",
       "      <td>...</td>\n",
       "      <td>0</td>\n",
       "      <td>0</td>\n",
       "      <td>0</td>\n",
       "      <td>0</td>\n",
       "      <td>0</td>\n",
       "      <td>0</td>\n",
       "      <td>0</td>\n",
       "      <td>0</td>\n",
       "      <td>0</td>\n",
       "      <td>001A05.JPG</td>\n",
       "    </tr>\n",
       "    <tr>\n",
       "      <th>2</th>\n",
       "      <td>1</td>\n",
       "      <td>1</td>\n",
       "      <td>0</td>\n",
       "      <td>0</td>\n",
       "      <td>0</td>\n",
       "      <td>0</td>\n",
       "      <td>0</td>\n",
       "      <td>0</td>\n",
       "      <td>0</td>\n",
       "      <td>0</td>\n",
       "      <td>...</td>\n",
       "      <td>0</td>\n",
       "      <td>0</td>\n",
       "      <td>0</td>\n",
       "      <td>0</td>\n",
       "      <td>0</td>\n",
       "      <td>0</td>\n",
       "      <td>0</td>\n",
       "      <td>0</td>\n",
       "      <td>0</td>\n",
       "      <td>001A08.JPG</td>\n",
       "    </tr>\n",
       "    <tr>\n",
       "      <th>3</th>\n",
       "      <td>1</td>\n",
       "      <td>1</td>\n",
       "      <td>0</td>\n",
       "      <td>0</td>\n",
       "      <td>0</td>\n",
       "      <td>0</td>\n",
       "      <td>0</td>\n",
       "      <td>0</td>\n",
       "      <td>0</td>\n",
       "      <td>0</td>\n",
       "      <td>...</td>\n",
       "      <td>0</td>\n",
       "      <td>0</td>\n",
       "      <td>0</td>\n",
       "      <td>0</td>\n",
       "      <td>0</td>\n",
       "      <td>0</td>\n",
       "      <td>0</td>\n",
       "      <td>0</td>\n",
       "      <td>0</td>\n",
       "      <td>001A10.JPG</td>\n",
       "    </tr>\n",
       "    <tr>\n",
       "      <th>4</th>\n",
       "      <td>1</td>\n",
       "      <td>1</td>\n",
       "      <td>0</td>\n",
       "      <td>0</td>\n",
       "      <td>0</td>\n",
       "      <td>0</td>\n",
       "      <td>0</td>\n",
       "      <td>0</td>\n",
       "      <td>0</td>\n",
       "      <td>0</td>\n",
       "      <td>...</td>\n",
       "      <td>0</td>\n",
       "      <td>0</td>\n",
       "      <td>0</td>\n",
       "      <td>0</td>\n",
       "      <td>0</td>\n",
       "      <td>0</td>\n",
       "      <td>0</td>\n",
       "      <td>0</td>\n",
       "      <td>0</td>\n",
       "      <td>001A14.JPG</td>\n",
       "    </tr>\n",
       "  </tbody>\n",
       "</table>\n",
       "<p>5 rows × 84 columns</p>\n",
       "</div>"
      ],
      "text/plain": [
       "   ID  person_1  person_2  person_3  person_4  person_5  person_6  person_7  \\\n",
       "0   1         1         0         0         0         0         0         0   \n",
       "1   1         1         0         0         0         0         0         0   \n",
       "2   1         1         0         0         0         0         0         0   \n",
       "3   1         1         0         0         0         0         0         0   \n",
       "4   1         1         0         0         0         0         0         0   \n",
       "\n",
       "   person_8  person_9  ...  person_74  person_75  person_76  person_77  \\\n",
       "0         0         0  ...          0          0          0          0   \n",
       "1         0         0  ...          0          0          0          0   \n",
       "2         0         0  ...          0          0          0          0   \n",
       "3         0         0  ...          0          0          0          0   \n",
       "4         0         0  ...          0          0          0          0   \n",
       "\n",
       "   person_78  person_79  person_80  person_81  person_82   file_name  \n",
       "0          0          0          0          0          0  001A02.JPG  \n",
       "1          0          0          0          0          0  001A05.JPG  \n",
       "2          0          0          0          0          0  001A08.JPG  \n",
       "3          0          0          0          0          0  001A10.JPG  \n",
       "4          0          0          0          0          0  001A14.JPG  \n",
       "\n",
       "[5 rows x 84 columns]"
      ]
     },
     "execution_count": 19,
     "metadata": {},
     "output_type": "execute_result"
    }
   ],
   "source": [
    "df.head()"
   ]
  },
  {
   "cell_type": "code",
   "execution_count": 20,
   "metadata": {
    "colab": {
     "base_uri": "https://localhost:8080/",
     "height": 255
    },
    "colab_type": "code",
    "id": "7CMoq_rcvRj-",
    "outputId": "1c1c712e-749a-465b-e1ab-9c8e9e7bebe5"
   },
   "outputs": [
    {
     "data": {
      "text/html": [
       "<div>\n",
       "<style scoped>\n",
       "    .dataframe tbody tr th:only-of-type {\n",
       "        vertical-align: middle;\n",
       "    }\n",
       "\n",
       "    .dataframe tbody tr th {\n",
       "        vertical-align: top;\n",
       "    }\n",
       "\n",
       "    .dataframe thead th {\n",
       "        text-align: right;\n",
       "    }\n",
       "</style>\n",
       "<table border=\"1\" class=\"dataframe\">\n",
       "  <thead>\n",
       "    <tr style=\"text-align: right;\">\n",
       "      <th></th>\n",
       "      <th>ID</th>\n",
       "      <th>person_1</th>\n",
       "      <th>person_2</th>\n",
       "      <th>person_3</th>\n",
       "      <th>person_4</th>\n",
       "      <th>person_5</th>\n",
       "      <th>person_6</th>\n",
       "      <th>person_7</th>\n",
       "      <th>person_8</th>\n",
       "      <th>person_9</th>\n",
       "      <th>...</th>\n",
       "      <th>person_74</th>\n",
       "      <th>person_75</th>\n",
       "      <th>person_76</th>\n",
       "      <th>person_77</th>\n",
       "      <th>person_78</th>\n",
       "      <th>person_79</th>\n",
       "      <th>person_80</th>\n",
       "      <th>person_81</th>\n",
       "      <th>person_82</th>\n",
       "      <th>file_name</th>\n",
       "    </tr>\n",
       "  </thead>\n",
       "  <tbody>\n",
       "    <tr>\n",
       "      <th>982</th>\n",
       "      <td>81</td>\n",
       "      <td>0</td>\n",
       "      <td>0</td>\n",
       "      <td>0</td>\n",
       "      <td>0</td>\n",
       "      <td>0</td>\n",
       "      <td>0</td>\n",
       "      <td>0</td>\n",
       "      <td>0</td>\n",
       "      <td>0</td>\n",
       "      <td>...</td>\n",
       "      <td>0</td>\n",
       "      <td>0</td>\n",
       "      <td>0</td>\n",
       "      <td>0</td>\n",
       "      <td>0</td>\n",
       "      <td>0</td>\n",
       "      <td>0</td>\n",
       "      <td>1</td>\n",
       "      <td>0</td>\n",
       "      <td>081A03.JPG</td>\n",
       "    </tr>\n",
       "    <tr>\n",
       "      <th>983</th>\n",
       "      <td>81</td>\n",
       "      <td>0</td>\n",
       "      <td>0</td>\n",
       "      <td>0</td>\n",
       "      <td>0</td>\n",
       "      <td>0</td>\n",
       "      <td>0</td>\n",
       "      <td>0</td>\n",
       "      <td>0</td>\n",
       "      <td>0</td>\n",
       "      <td>...</td>\n",
       "      <td>0</td>\n",
       "      <td>0</td>\n",
       "      <td>0</td>\n",
       "      <td>0</td>\n",
       "      <td>0</td>\n",
       "      <td>0</td>\n",
       "      <td>0</td>\n",
       "      <td>1</td>\n",
       "      <td>0</td>\n",
       "      <td>081A04.JPG</td>\n",
       "    </tr>\n",
       "    <tr>\n",
       "      <th>984</th>\n",
       "      <td>81</td>\n",
       "      <td>0</td>\n",
       "      <td>0</td>\n",
       "      <td>0</td>\n",
       "      <td>0</td>\n",
       "      <td>0</td>\n",
       "      <td>0</td>\n",
       "      <td>0</td>\n",
       "      <td>0</td>\n",
       "      <td>0</td>\n",
       "      <td>...</td>\n",
       "      <td>0</td>\n",
       "      <td>0</td>\n",
       "      <td>0</td>\n",
       "      <td>0</td>\n",
       "      <td>0</td>\n",
       "      <td>0</td>\n",
       "      <td>0</td>\n",
       "      <td>1</td>\n",
       "      <td>0</td>\n",
       "      <td>081A05.JPG</td>\n",
       "    </tr>\n",
       "    <tr>\n",
       "      <th>985</th>\n",
       "      <td>81</td>\n",
       "      <td>0</td>\n",
       "      <td>0</td>\n",
       "      <td>0</td>\n",
       "      <td>0</td>\n",
       "      <td>0</td>\n",
       "      <td>0</td>\n",
       "      <td>0</td>\n",
       "      <td>0</td>\n",
       "      <td>0</td>\n",
       "      <td>...</td>\n",
       "      <td>0</td>\n",
       "      <td>0</td>\n",
       "      <td>0</td>\n",
       "      <td>0</td>\n",
       "      <td>0</td>\n",
       "      <td>0</td>\n",
       "      <td>0</td>\n",
       "      <td>1</td>\n",
       "      <td>0</td>\n",
       "      <td>081A06.JPG</td>\n",
       "    </tr>\n",
       "    <tr>\n",
       "      <th>986</th>\n",
       "      <td>81</td>\n",
       "      <td>0</td>\n",
       "      <td>0</td>\n",
       "      <td>0</td>\n",
       "      <td>0</td>\n",
       "      <td>0</td>\n",
       "      <td>0</td>\n",
       "      <td>0</td>\n",
       "      <td>0</td>\n",
       "      <td>0</td>\n",
       "      <td>...</td>\n",
       "      <td>0</td>\n",
       "      <td>0</td>\n",
       "      <td>0</td>\n",
       "      <td>0</td>\n",
       "      <td>0</td>\n",
       "      <td>0</td>\n",
       "      <td>0</td>\n",
       "      <td>1</td>\n",
       "      <td>0</td>\n",
       "      <td>081A07.JPG</td>\n",
       "    </tr>\n",
       "    <tr>\n",
       "      <th>987</th>\n",
       "      <td>81</td>\n",
       "      <td>0</td>\n",
       "      <td>0</td>\n",
       "      <td>0</td>\n",
       "      <td>0</td>\n",
       "      <td>0</td>\n",
       "      <td>0</td>\n",
       "      <td>0</td>\n",
       "      <td>0</td>\n",
       "      <td>0</td>\n",
       "      <td>...</td>\n",
       "      <td>0</td>\n",
       "      <td>0</td>\n",
       "      <td>0</td>\n",
       "      <td>0</td>\n",
       "      <td>0</td>\n",
       "      <td>0</td>\n",
       "      <td>0</td>\n",
       "      <td>1</td>\n",
       "      <td>0</td>\n",
       "      <td>081A08.JPG</td>\n",
       "    </tr>\n",
       "    <tr>\n",
       "      <th>988</th>\n",
       "      <td>81</td>\n",
       "      <td>0</td>\n",
       "      <td>0</td>\n",
       "      <td>0</td>\n",
       "      <td>0</td>\n",
       "      <td>0</td>\n",
       "      <td>0</td>\n",
       "      <td>0</td>\n",
       "      <td>0</td>\n",
       "      <td>0</td>\n",
       "      <td>...</td>\n",
       "      <td>0</td>\n",
       "      <td>0</td>\n",
       "      <td>0</td>\n",
       "      <td>0</td>\n",
       "      <td>0</td>\n",
       "      <td>0</td>\n",
       "      <td>0</td>\n",
       "      <td>1</td>\n",
       "      <td>0</td>\n",
       "      <td>081A10.JPG</td>\n",
       "    </tr>\n",
       "    <tr>\n",
       "      <th>989</th>\n",
       "      <td>81</td>\n",
       "      <td>0</td>\n",
       "      <td>0</td>\n",
       "      <td>0</td>\n",
       "      <td>0</td>\n",
       "      <td>0</td>\n",
       "      <td>0</td>\n",
       "      <td>0</td>\n",
       "      <td>0</td>\n",
       "      <td>0</td>\n",
       "      <td>...</td>\n",
       "      <td>0</td>\n",
       "      <td>0</td>\n",
       "      <td>0</td>\n",
       "      <td>0</td>\n",
       "      <td>0</td>\n",
       "      <td>0</td>\n",
       "      <td>0</td>\n",
       "      <td>1</td>\n",
       "      <td>0</td>\n",
       "      <td>081A11.JPG</td>\n",
       "    </tr>\n",
       "    <tr>\n",
       "      <th>990</th>\n",
       "      <td>81</td>\n",
       "      <td>0</td>\n",
       "      <td>0</td>\n",
       "      <td>0</td>\n",
       "      <td>0</td>\n",
       "      <td>0</td>\n",
       "      <td>0</td>\n",
       "      <td>0</td>\n",
       "      <td>0</td>\n",
       "      <td>0</td>\n",
       "      <td>...</td>\n",
       "      <td>0</td>\n",
       "      <td>0</td>\n",
       "      <td>0</td>\n",
       "      <td>0</td>\n",
       "      <td>0</td>\n",
       "      <td>0</td>\n",
       "      <td>0</td>\n",
       "      <td>1</td>\n",
       "      <td>0</td>\n",
       "      <td>081A12.JPG</td>\n",
       "    </tr>\n",
       "    <tr>\n",
       "      <th>991</th>\n",
       "      <td>82</td>\n",
       "      <td>0</td>\n",
       "      <td>0</td>\n",
       "      <td>0</td>\n",
       "      <td>0</td>\n",
       "      <td>0</td>\n",
       "      <td>0</td>\n",
       "      <td>0</td>\n",
       "      <td>0</td>\n",
       "      <td>0</td>\n",
       "      <td>...</td>\n",
       "      <td>0</td>\n",
       "      <td>0</td>\n",
       "      <td>0</td>\n",
       "      <td>0</td>\n",
       "      <td>0</td>\n",
       "      <td>0</td>\n",
       "      <td>0</td>\n",
       "      <td>0</td>\n",
       "      <td>1</td>\n",
       "      <td>082A00.JPG</td>\n",
       "    </tr>\n",
       "    <tr>\n",
       "      <th>992</th>\n",
       "      <td>82</td>\n",
       "      <td>0</td>\n",
       "      <td>0</td>\n",
       "      <td>0</td>\n",
       "      <td>0</td>\n",
       "      <td>0</td>\n",
       "      <td>0</td>\n",
       "      <td>0</td>\n",
       "      <td>0</td>\n",
       "      <td>0</td>\n",
       "      <td>...</td>\n",
       "      <td>0</td>\n",
       "      <td>0</td>\n",
       "      <td>0</td>\n",
       "      <td>0</td>\n",
       "      <td>0</td>\n",
       "      <td>0</td>\n",
       "      <td>0</td>\n",
       "      <td>0</td>\n",
       "      <td>1</td>\n",
       "      <td>082A03.JPG</td>\n",
       "    </tr>\n",
       "    <tr>\n",
       "      <th>993</th>\n",
       "      <td>82</td>\n",
       "      <td>0</td>\n",
       "      <td>0</td>\n",
       "      <td>0</td>\n",
       "      <td>0</td>\n",
       "      <td>0</td>\n",
       "      <td>0</td>\n",
       "      <td>0</td>\n",
       "      <td>0</td>\n",
       "      <td>0</td>\n",
       "      <td>...</td>\n",
       "      <td>0</td>\n",
       "      <td>0</td>\n",
       "      <td>0</td>\n",
       "      <td>0</td>\n",
       "      <td>0</td>\n",
       "      <td>0</td>\n",
       "      <td>0</td>\n",
       "      <td>0</td>\n",
       "      <td>1</td>\n",
       "      <td>082A16.JPG</td>\n",
       "    </tr>\n",
       "    <tr>\n",
       "      <th>994</th>\n",
       "      <td>82</td>\n",
       "      <td>0</td>\n",
       "      <td>0</td>\n",
       "      <td>0</td>\n",
       "      <td>0</td>\n",
       "      <td>0</td>\n",
       "      <td>0</td>\n",
       "      <td>0</td>\n",
       "      <td>0</td>\n",
       "      <td>0</td>\n",
       "      <td>...</td>\n",
       "      <td>0</td>\n",
       "      <td>0</td>\n",
       "      <td>0</td>\n",
       "      <td>0</td>\n",
       "      <td>0</td>\n",
       "      <td>0</td>\n",
       "      <td>0</td>\n",
       "      <td>0</td>\n",
       "      <td>1</td>\n",
       "      <td>082A18.JPG</td>\n",
       "    </tr>\n",
       "    <tr>\n",
       "      <th>995</th>\n",
       "      <td>82</td>\n",
       "      <td>0</td>\n",
       "      <td>0</td>\n",
       "      <td>0</td>\n",
       "      <td>0</td>\n",
       "      <td>0</td>\n",
       "      <td>0</td>\n",
       "      <td>0</td>\n",
       "      <td>0</td>\n",
       "      <td>0</td>\n",
       "      <td>...</td>\n",
       "      <td>0</td>\n",
       "      <td>0</td>\n",
       "      <td>0</td>\n",
       "      <td>0</td>\n",
       "      <td>0</td>\n",
       "      <td>0</td>\n",
       "      <td>0</td>\n",
       "      <td>0</td>\n",
       "      <td>1</td>\n",
       "      <td>082A20.JPG</td>\n",
       "    </tr>\n",
       "    <tr>\n",
       "      <th>996</th>\n",
       "      <td>82</td>\n",
       "      <td>0</td>\n",
       "      <td>0</td>\n",
       "      <td>0</td>\n",
       "      <td>0</td>\n",
       "      <td>0</td>\n",
       "      <td>0</td>\n",
       "      <td>0</td>\n",
       "      <td>0</td>\n",
       "      <td>0</td>\n",
       "      <td>...</td>\n",
       "      <td>0</td>\n",
       "      <td>0</td>\n",
       "      <td>0</td>\n",
       "      <td>0</td>\n",
       "      <td>0</td>\n",
       "      <td>0</td>\n",
       "      <td>0</td>\n",
       "      <td>0</td>\n",
       "      <td>1</td>\n",
       "      <td>082A21.JPG</td>\n",
       "    </tr>\n",
       "    <tr>\n",
       "      <th>997</th>\n",
       "      <td>82</td>\n",
       "      <td>0</td>\n",
       "      <td>0</td>\n",
       "      <td>0</td>\n",
       "      <td>0</td>\n",
       "      <td>0</td>\n",
       "      <td>0</td>\n",
       "      <td>0</td>\n",
       "      <td>0</td>\n",
       "      <td>0</td>\n",
       "      <td>...</td>\n",
       "      <td>0</td>\n",
       "      <td>0</td>\n",
       "      <td>0</td>\n",
       "      <td>0</td>\n",
       "      <td>0</td>\n",
       "      <td>0</td>\n",
       "      <td>0</td>\n",
       "      <td>0</td>\n",
       "      <td>1</td>\n",
       "      <td>082A22.JPG</td>\n",
       "    </tr>\n",
       "    <tr>\n",
       "      <th>998</th>\n",
       "      <td>82</td>\n",
       "      <td>0</td>\n",
       "      <td>0</td>\n",
       "      <td>0</td>\n",
       "      <td>0</td>\n",
       "      <td>0</td>\n",
       "      <td>0</td>\n",
       "      <td>0</td>\n",
       "      <td>0</td>\n",
       "      <td>0</td>\n",
       "      <td>...</td>\n",
       "      <td>0</td>\n",
       "      <td>0</td>\n",
       "      <td>0</td>\n",
       "      <td>0</td>\n",
       "      <td>0</td>\n",
       "      <td>0</td>\n",
       "      <td>0</td>\n",
       "      <td>0</td>\n",
       "      <td>1</td>\n",
       "      <td>082A23.JPG</td>\n",
       "    </tr>\n",
       "    <tr>\n",
       "      <th>999</th>\n",
       "      <td>82</td>\n",
       "      <td>0</td>\n",
       "      <td>0</td>\n",
       "      <td>0</td>\n",
       "      <td>0</td>\n",
       "      <td>0</td>\n",
       "      <td>0</td>\n",
       "      <td>0</td>\n",
       "      <td>0</td>\n",
       "      <td>0</td>\n",
       "      <td>...</td>\n",
       "      <td>0</td>\n",
       "      <td>0</td>\n",
       "      <td>0</td>\n",
       "      <td>0</td>\n",
       "      <td>0</td>\n",
       "      <td>0</td>\n",
       "      <td>0</td>\n",
       "      <td>0</td>\n",
       "      <td>1</td>\n",
       "      <td>082A25.JPG</td>\n",
       "    </tr>\n",
       "    <tr>\n",
       "      <th>1000</th>\n",
       "      <td>82</td>\n",
       "      <td>0</td>\n",
       "      <td>0</td>\n",
       "      <td>0</td>\n",
       "      <td>0</td>\n",
       "      <td>0</td>\n",
       "      <td>0</td>\n",
       "      <td>0</td>\n",
       "      <td>0</td>\n",
       "      <td>0</td>\n",
       "      <td>...</td>\n",
       "      <td>0</td>\n",
       "      <td>0</td>\n",
       "      <td>0</td>\n",
       "      <td>0</td>\n",
       "      <td>0</td>\n",
       "      <td>0</td>\n",
       "      <td>0</td>\n",
       "      <td>0</td>\n",
       "      <td>1</td>\n",
       "      <td>082A27.JPG</td>\n",
       "    </tr>\n",
       "    <tr>\n",
       "      <th>1001</th>\n",
       "      <td>82</td>\n",
       "      <td>0</td>\n",
       "      <td>0</td>\n",
       "      <td>0</td>\n",
       "      <td>0</td>\n",
       "      <td>0</td>\n",
       "      <td>0</td>\n",
       "      <td>0</td>\n",
       "      <td>0</td>\n",
       "      <td>0</td>\n",
       "      <td>...</td>\n",
       "      <td>0</td>\n",
       "      <td>0</td>\n",
       "      <td>0</td>\n",
       "      <td>0</td>\n",
       "      <td>0</td>\n",
       "      <td>0</td>\n",
       "      <td>0</td>\n",
       "      <td>0</td>\n",
       "      <td>1</td>\n",
       "      <td>082A31.JPG</td>\n",
       "    </tr>\n",
       "  </tbody>\n",
       "</table>\n",
       "<p>20 rows × 84 columns</p>\n",
       "</div>"
      ],
      "text/plain": [
       "      ID  person_1  person_2  person_3  person_4  person_5  person_6  \\\n",
       "982   81         0         0         0         0         0         0   \n",
       "983   81         0         0         0         0         0         0   \n",
       "984   81         0         0         0         0         0         0   \n",
       "985   81         0         0         0         0         0         0   \n",
       "986   81         0         0         0         0         0         0   \n",
       "987   81         0         0         0         0         0         0   \n",
       "988   81         0         0         0         0         0         0   \n",
       "989   81         0         0         0         0         0         0   \n",
       "990   81         0         0         0         0         0         0   \n",
       "991   82         0         0         0         0         0         0   \n",
       "992   82         0         0         0         0         0         0   \n",
       "993   82         0         0         0         0         0         0   \n",
       "994   82         0         0         0         0         0         0   \n",
       "995   82         0         0         0         0         0         0   \n",
       "996   82         0         0         0         0         0         0   \n",
       "997   82         0         0         0         0         0         0   \n",
       "998   82         0         0         0         0         0         0   \n",
       "999   82         0         0         0         0         0         0   \n",
       "1000  82         0         0         0         0         0         0   \n",
       "1001  82         0         0         0         0         0         0   \n",
       "\n",
       "      person_7  person_8  person_9  ...  person_74  person_75  person_76  \\\n",
       "982          0         0         0  ...          0          0          0   \n",
       "983          0         0         0  ...          0          0          0   \n",
       "984          0         0         0  ...          0          0          0   \n",
       "985          0         0         0  ...          0          0          0   \n",
       "986          0         0         0  ...          0          0          0   \n",
       "987          0         0         0  ...          0          0          0   \n",
       "988          0         0         0  ...          0          0          0   \n",
       "989          0         0         0  ...          0          0          0   \n",
       "990          0         0         0  ...          0          0          0   \n",
       "991          0         0         0  ...          0          0          0   \n",
       "992          0         0         0  ...          0          0          0   \n",
       "993          0         0         0  ...          0          0          0   \n",
       "994          0         0         0  ...          0          0          0   \n",
       "995          0         0         0  ...          0          0          0   \n",
       "996          0         0         0  ...          0          0          0   \n",
       "997          0         0         0  ...          0          0          0   \n",
       "998          0         0         0  ...          0          0          0   \n",
       "999          0         0         0  ...          0          0          0   \n",
       "1000         0         0         0  ...          0          0          0   \n",
       "1001         0         0         0  ...          0          0          0   \n",
       "\n",
       "      person_77  person_78  person_79  person_80  person_81  person_82  \\\n",
       "982           0          0          0          0          1          0   \n",
       "983           0          0          0          0          1          0   \n",
       "984           0          0          0          0          1          0   \n",
       "985           0          0          0          0          1          0   \n",
       "986           0          0          0          0          1          0   \n",
       "987           0          0          0          0          1          0   \n",
       "988           0          0          0          0          1          0   \n",
       "989           0          0          0          0          1          0   \n",
       "990           0          0          0          0          1          0   \n",
       "991           0          0          0          0          0          1   \n",
       "992           0          0          0          0          0          1   \n",
       "993           0          0          0          0          0          1   \n",
       "994           0          0          0          0          0          1   \n",
       "995           0          0          0          0          0          1   \n",
       "996           0          0          0          0          0          1   \n",
       "997           0          0          0          0          0          1   \n",
       "998           0          0          0          0          0          1   \n",
       "999           0          0          0          0          0          1   \n",
       "1000          0          0          0          0          0          1   \n",
       "1001          0          0          0          0          0          1   \n",
       "\n",
       "       file_name  \n",
       "982   081A03.JPG  \n",
       "983   081A04.JPG  \n",
       "984   081A05.JPG  \n",
       "985   081A06.JPG  \n",
       "986   081A07.JPG  \n",
       "987   081A08.JPG  \n",
       "988   081A10.JPG  \n",
       "989   081A11.JPG  \n",
       "990   081A12.JPG  \n",
       "991   082A00.JPG  \n",
       "992   082A03.JPG  \n",
       "993   082A16.JPG  \n",
       "994   082A18.JPG  \n",
       "995   082A20.JPG  \n",
       "996   082A21.JPG  \n",
       "997   082A22.JPG  \n",
       "998   082A23.JPG  \n",
       "999   082A25.JPG  \n",
       "1000  082A27.JPG  \n",
       "1001  082A31.JPG  \n",
       "\n",
       "[20 rows x 84 columns]"
      ]
     },
     "execution_count": 20,
     "metadata": {},
     "output_type": "execute_result"
    }
   ],
   "source": [
    "df.tail(20)"
   ]
  },
  {
   "cell_type": "code",
   "execution_count": 21,
   "metadata": {
    "colab": {
     "base_uri": "https://localhost:8080/",
     "height": 350
    },
    "colab_type": "code",
    "id": "Ckq4tXKjxEO9",
    "outputId": "b0bcee76-59e6-4b27-f2c2-b17c41354379"
   },
   "outputs": [
    {
     "data": {
      "text/plain": [
       "Index(['ID', 'person_1', 'person_2', 'person_3', 'person_4', 'person_5',\n",
       "       'person_6', 'person_7', 'person_8', 'person_9', 'person_10',\n",
       "       'person_11', 'person_12', 'person_13', 'person_14', 'person_15',\n",
       "       'person_16', 'person_17', 'person_18', 'person_19', 'person_20',\n",
       "       'person_21', 'person_22', 'person_23', 'person_24', 'person_25',\n",
       "       'person_26', 'person_27', 'person_28', 'person_29', 'person_30',\n",
       "       'person_31', 'person_32', 'person_33', 'person_34', 'person_35',\n",
       "       'person_36', 'person_37', 'person_38', 'person_39', 'person_40',\n",
       "       'person_41', 'person_42', 'person_43', 'person_44', 'person_45',\n",
       "       'person_46', 'person_47', 'person_48', 'person_49', 'person_50',\n",
       "       'person_51', 'person_52', 'person_53', 'person_54', 'person_55',\n",
       "       'person_56', 'person_57', 'person_58', 'person_59', 'person_60',\n",
       "       'person_61', 'person_62', 'person_63', 'person_64', 'person_65',\n",
       "       'person_66', 'person_67', 'person_68', 'person_69', 'person_70',\n",
       "       'person_71', 'person_72', 'person_73', 'person_74', 'person_75',\n",
       "       'person_76', 'person_77', 'person_78', 'person_79', 'person_80',\n",
       "       'person_81', 'person_82', 'file_name'],\n",
       "      dtype='object')"
      ]
     },
     "execution_count": 21,
     "metadata": {},
     "output_type": "execute_result"
    }
   ],
   "source": [
    "df.columns"
   ]
  },
  {
   "cell_type": "markdown",
   "metadata": {
    "colab_type": "text",
    "id": "_ZEjS28FxKje"
   },
   "source": [
    "## Adding original image names to the dataframe\n",
    "### Note : \"fg\" folder contains the 1002 images in .JPG format"
   ]
  },
  {
   "cell_type": "code",
   "execution_count": 22,
   "metadata": {
    "colab": {},
    "colab_type": "code",
    "id": "qsQCAcCExJYM"
   },
   "outputs": [],
   "source": [
    "# # addng file names to the dataframe as a new columns called 'fiale_name\"\n",
    "# image_names=[]\n",
    "# for i in os.listdir(dir +'/fg'):\n",
    "#     image_names.append(i)"
   ]
  },
  {
   "cell_type": "code",
   "execution_count": 23,
   "metadata": {
    "colab": {
     "base_uri": "https://localhost:8080/",
     "height": 35
    },
    "colab_type": "code",
    "id": "zt1FWRhj8Qfp",
    "outputId": "ee4603d1-091b-4733-fd5d-69af98db7ec6"
   },
   "outputs": [],
   "source": [
    "# len(image_names)"
   ]
  },
  {
   "cell_type": "code",
   "execution_count": 24,
   "metadata": {
    "colab": {},
    "colab_type": "code",
    "id": "2qwQBDYjxn8x"
   },
   "outputs": [],
   "source": [
    "# df['file_name']=image_names"
   ]
  },
  {
   "cell_type": "code",
   "execution_count": 25,
   "metadata": {
    "colab": {
     "base_uri": "https://localhost:8080/",
     "height": 255
    },
    "colab_type": "code",
    "id": "Umq5RFkxxr6X",
    "outputId": "1364ba74-0473-48fe-f26c-e279e8602624"
   },
   "outputs": [],
   "source": [
    "# df.head()"
   ]
  },
  {
   "cell_type": "code",
   "execution_count": 26,
   "metadata": {
    "colab": {},
    "colab_type": "code",
    "id": "8PD-5CvD9IYi"
   },
   "outputs": [],
   "source": [
    "# df['file_name'] = df['file_name'].sort_values(ascending=True).values"
   ]
  },
  {
   "cell_type": "code",
   "execution_count": 27,
   "metadata": {
    "colab": {
     "base_uri": "https://localhost:8080/",
     "height": 726
    },
    "colab_type": "code",
    "id": "a7vhv2xOxvS1",
    "outputId": "dbf47b46-47a1-4553-f420-4791ae706f09"
   },
   "outputs": [],
   "source": [
    "# df.tail(20)"
   ]
  },
  {
   "cell_type": "code",
   "execution_count": 28,
   "metadata": {
    "colab": {},
    "colab_type": "code",
    "id": "C39YxTYOx2RV"
   },
   "outputs": [],
   "source": [
    "# saving the above dataframe as csv\n",
    "# df.to_csv('/content/drive/My Drive/Aging model/new/df.csv',index=False)"
   ]
  },
  {
   "cell_type": "code",
   "execution_count": 29,
   "metadata": {
    "colab": {},
    "colab_type": "code",
    "id": "tzX0embtOQHa"
   },
   "outputs": [],
   "source": [
    "# df=pd.read_csv('/content/drive/My Drive/Aging model/new/df.csv')"
   ]
  },
  {
   "cell_type": "markdown",
   "metadata": {
    "colab_type": "text",
    "id": "utJ4QyB4yFF1"
   },
   "source": [
    "# Splitting data in training and validation sets"
   ]
  },
  {
   "cell_type": "code",
   "execution_count": 30,
   "metadata": {
    "colab": {},
    "colab_type": "code",
    "id": "-I-rIw_3yCLo"
   },
   "outputs": [],
   "source": [
    "#  train_size = len(df['ID'].unique()) * .8\n",
    "# train = pd.DataFrame()\n",
    "# valid = pd.DataFrame()\n",
    "# for n,i in enumerate(df['ID'].unique()):\n",
    "#     if n< train_size:\n",
    "#         train = pd.concat([train, df[df['ID']==i]])\n",
    "#     else:\n",
    "#         valid = pd.concat([valid, df[df['ID']==i]])\n",
    " "
   ]
  },
  {
   "cell_type": "code",
   "execution_count": 31,
   "metadata": {
    "colab": {
     "base_uri": "https://localhost:8080/",
     "height": 53
    },
    "colab_type": "code",
    "id": "moxOAFIiybJU",
    "outputId": "ae30644f-1001-492c-f80c-8977b5d18181"
   },
   "outputs": [],
   "source": [
    "# print('Training Set Has: ' + str(len(train.groupby('ID').count())) + ' people')\n",
    "# print('Validation  Set Has: ' + str(len(valid.groupby('ID').count())) + ' people')"
   ]
  },
  {
   "cell_type": "code",
   "execution_count": 32,
   "metadata": {
    "colab": {
     "base_uri": "https://localhost:8080/",
     "height": 256
    },
    "colab_type": "code",
    "id": "6B2WQN7f0QXC",
    "outputId": "09040944-aa29-4d8d-e893-03018b731a74"
   },
   "outputs": [],
   "source": [
    "# train.head()"
   ]
  },
  {
   "cell_type": "code",
   "execution_count": 33,
   "metadata": {
    "colab": {
     "base_uri": "https://localhost:8080/",
     "height": 256
    },
    "colab_type": "code",
    "id": "BZzAkugw0mnM",
    "outputId": "e7d89fd3-4f0f-4e70-ef61-91d00f3c64dc"
   },
   "outputs": [],
   "source": [
    "# valid.tail()"
   ]
  },
  {
   "cell_type": "markdown",
   "metadata": {
    "colab_type": "text",
    "id": "CYjKdGgyylVR"
   },
   "source": [
    "# Preparing Test data"
   ]
  },
  {
   "cell_type": "code",
   "execution_count": 34,
   "metadata": {
    "colab": {
     "base_uri": "https://localhost:8080/",
     "height": 91
    },
    "colab_type": "code",
    "id": "1CSIvGh3ypu9",
    "outputId": "8d4bf255-76f7-4052-d075-1b7ffcca289a"
   },
   "outputs": [],
   "source": [
    "# # The unique ID of persons in train dataframe\n",
    "# np.unique(train.ID.values)"
   ]
  },
  {
   "cell_type": "code",
   "execution_count": 35,
   "metadata": {
    "colab": {},
    "colab_type": "code",
    "id": "zefv9c3HzVeK"
   },
   "outputs": [],
   "source": [
    "# # taking data of 8 person out from the training dataframe to use in test data\n",
    "# test_ids= [ 34,35, 36, 37, 38, 39, 40, 41] "
   ]
  },
  {
   "cell_type": "code",
   "execution_count": 36,
   "metadata": {
    "colab": {
     "base_uri": "https://localhost:8080/",
     "height": 193
    },
    "colab_type": "code",
    "id": "QwEV-3xGzrWS",
    "outputId": "f1e49c08-5f43-44b6-8f64-41e31363f40e"
   },
   "outputs": [],
   "source": [
    "# # selecting rows based on condition \n",
    "# test= train[train['ID'].isin(test_ids)] \n",
    "# test.head(3)"
   ]
  },
  {
   "cell_type": "code",
   "execution_count": 37,
   "metadata": {
    "colab": {
     "base_uri": "https://localhost:8080/",
     "height": 35
    },
    "colab_type": "code",
    "id": "j8Ru6hWE02gR",
    "outputId": "6ea1b480-a0e9-442c-a6b0-bca732252241"
   },
   "outputs": [],
   "source": [
    "# print(train.shape, valid.shape,test.shape )"
   ]
  },
  {
   "cell_type": "code",
   "execution_count": 38,
   "metadata": {
    "colab": {},
    "colab_type": "code",
    "id": "Rexv_VGI0-4e"
   },
   "outputs": [],
   "source": [
    "# # removing the Test IDs from the Traind data\n",
    "# # removing 34,35, 36, 37, 38, 39, 40, 41 indices\n",
    "# train_ids=['0', '1', '2', '3', '4', '5', '6', '7', '8', '9', '10', '11',\n",
    "#        '12', '13', '14', '15', '16', '17', '18', '19', '20', '21', '22', '23',\n",
    "#        '24', '25', '26', '27', '28', '29', '30', '31', '32', '33', '42', '43', '44', '45', '46', '47',\n",
    "#        '48', '49', '50', '51', '52', '53', '54', '55', '56', '57', '58', '59',\n",
    "#        '60', '61', '62', '63', '64', '65', '66', '67', '68', '69', '70', '71',\n",
    "#        '72', '73', '74', '75', '76', '77', '78', '79', '80', '81']"
   ]
  },
  {
   "cell_type": "code",
   "execution_count": 39,
   "metadata": {
    "colab": {
     "base_uri": "https://localhost:8080/",
     "height": 255
    },
    "colab_type": "code",
    "id": "0P_6w-N11NJJ",
    "outputId": "fe5f262f-9f43-4c5b-d676-e501a3b9ad07"
   },
   "outputs": [],
   "source": [
    "# train= train[train['ID'].isin(train_ids)] \n",
    "# train.head()"
   ]
  },
  {
   "cell_type": "code",
   "execution_count": 40,
   "metadata": {
    "colab": {
     "base_uri": "https://localhost:8080/",
     "height": 35
    },
    "colab_type": "code",
    "id": "zKTuvzew1Rwt",
    "outputId": "5369170c-6cf5-4f6f-ea4f-7d1e7c346215"
   },
   "outputs": [],
   "source": [
    "# print(train.shape, valid.shape,test.shape )"
   ]
  },
  {
   "cell_type": "code",
   "execution_count": 41,
   "metadata": {
    "colab": {
     "base_uri": "https://localhost:8080/",
     "height": 72
    },
    "colab_type": "code",
    "id": "rjGNlDkG4pon",
    "outputId": "4c3f50cf-b828-4feb-f887-68706c7d1a8f"
   },
   "outputs": [],
   "source": [
    "# print('Training    Set Has: ' + str(len(train.groupby('ID').count())) + ' people')\n",
    "# print('Validation  Set Has: ' + str(len(valid.groupby('ID').count())) + ' people')\n",
    "# print('.....Test   Set Has:  ' + str(len(test.groupby('ID').count())) + ' people')"
   ]
  },
  {
   "cell_type": "markdown",
   "metadata": {
    "colab_type": "text",
    "id": "6KRG5oEuVG_a"
   },
   "source": [
    "## Saving results of Training, Validation and Testing Data"
   ]
  },
  {
   "cell_type": "code",
   "execution_count": 42,
   "metadata": {
    "colab": {},
    "colab_type": "code",
    "id": "hPSGmWGN2RFZ"
   },
   "outputs": [],
   "source": [
    "\n",
    "# train.to_csv('/content/drive/My Drive/Aging model/new/train.csv',index=False)\n",
    "# valid.to_csv('/content/drive/My Drive/Aging model/new/valid.csv',index=False)\n",
    "# test.to_csv('/content/drive/My Drive/Aging model/new/test.csv',index=False)"
   ]
  },
  {
   "cell_type": "code",
   "execution_count": 43,
   "metadata": {
    "colab": {},
    "colab_type": "code",
    "id": "4i1YdiDZ4u1T"
   },
   "outputs": [],
   "source": [
    "train=pd.read_csv(dir+'/train.csv')\n",
    "valid=pd.read_csv(dir+'/valid.csv')\n",
    "test=pd.read_csv(dir+'/test.csv')"
   ]
  },
  {
   "cell_type": "code",
   "execution_count": 44,
   "metadata": {
    "colab": {
     "base_uri": "https://localhost:8080/",
     "height": 36
    },
    "colab_type": "code",
    "id": "2IskkomvPJou",
    "outputId": "765a2309-1237-4c6e-9a0c-a8394a135188"
   },
   "outputs": [
    {
     "name": "stdout",
     "output_type": "stream",
     "text": [
      "(686, 84) (212, 84) (104, 84)\n"
     ]
    }
   ],
   "source": [
    "print(train.shape,valid.shape,test.shape)"
   ]
  },
  {
   "cell_type": "markdown",
   "metadata": {
    "colab_type": "text",
    "id": "7yWwlz8l1ZA6"
   },
   "source": [
    "# Taking out two photos for prediction"
   ]
  },
  {
   "cell_type": "markdown",
   "metadata": {
    "colab_type": "text",
    "id": "FWb7Uwwt984d"
   },
   "source": [
    "# Function to find the index of images"
   ]
  },
  {
   "cell_type": "code",
   "execution_count": 45,
   "metadata": {
    "colab": {},
    "colab_type": "code",
    "id": "dJoHHku19dgs"
   },
   "outputs": [],
   "source": [
    "def getIndexes(dfObj, value):\n",
    "    ''' Get index positions of value in dataframe i.e. dfObj.'''\n",
    "    listOfPos = list()\n",
    "    # Get bool dataframe with True at positions where the given value exists\n",
    "    result = dfObj.isin([value])\n",
    "    # Get list of columns that contains the value\n",
    "    seriesObj = result.any()\n",
    "    columnNames = list(seriesObj[seriesObj == True].index)\n",
    "    # Iterate over list of columns and fetch the rows indexes where value exists\n",
    "    for col in columnNames:\n",
    "        rows = list(result[col][result[col] == True].index)\n",
    "        for row in rows:\n",
    "            listOfPos.append((row, col))\n",
    "    # Return a list of tuples indicating the positions of value in the dataframe\n",
    "    return listOfPos"
   ]
  },
  {
   "cell_type": "markdown",
   "metadata": {
    "colab_type": "text",
    "id": "fnZlErph9yBp"
   },
   "source": [
    "#  For testing purpose ,dropping images 057A17.JPG ,032A18.JPG\n",
    "# Class Number of these images=57 and 10 respectively"
   ]
  },
  {
   "cell_type": "code",
   "execution_count": 46,
   "metadata": {
    "colab": {},
    "colab_type": "code",
    "id": "nyiWjgquDRNL"
   },
   "outputs": [],
   "source": [
    "image_path_1=dir + '/fg/057A17.JPG'\n",
    "image_path_2=dir + '/fg/032A18.JPG'"
   ]
  },
  {
   "cell_type": "code",
   "execution_count": 47,
   "metadata": {
    "colab": {
     "base_uri": "https://localhost:8080/",
     "height": 287
    },
    "colab_type": "code",
    "id": "p-UHOfLtAMkX",
    "outputId": "3c50404c-acf6-4e84-c916-87f5dd504abd"
   },
   "outputs": [
    {
     "name": "stdout",
     "output_type": "stream",
     "text": [
      "Populating the interactive namespace from numpy and matplotlib\n"
     ]
    },
    {
     "name": "stderr",
     "output_type": "stream",
     "text": [
      "E:\\anaconda\\envs\\tf\\lib\\site-packages\\IPython\\core\\magics\\pylab.py:160: UserWarning: pylab import has clobbered these variables: ['test', 'unique']\n",
      "`%matplotlib` prevents importing * from pylab and numpy\n",
      "  \"\\n`%matplotlib` prevents importing * from pylab and numpy\"\n"
     ]
    },
    {
     "data": {
      "image/png": "[encoded data removed]",
      "text/plain": [
       "<Figure size 432x288 with 1 Axes>"
      ]
     },
     "metadata": {
      "needs_background": "light"
     },
     "output_type": "display_data"
    }
   ],
   "source": [
    "%pylab inline\n",
    "import matplotlib.pyplot as plt\n",
    "import matplotlib.image as mpimg\n",
    "img=mpimg.imread(image_path_1)\n",
    "imgplot = plt.imshow(img)\n",
    "plt.show()"
   ]
  },
  {
   "cell_type": "code",
   "execution_count": 48,
   "metadata": {
    "colab": {
     "base_uri": "https://localhost:8080/",
     "height": 269
    },
    "colab_type": "code",
    "id": "FJWo3EwwEMZa",
    "outputId": "3474ee58-4c99-4c39-e5ff-d3c52226e776"
   },
   "outputs": [
    {
     "data": {
      "image/png": "[encoded data removed]",
      "text/plain": [
       "<Figure size 432x288 with 1 Axes>"
      ]
     },
     "metadata": {
      "needs_background": "light"
     },
     "output_type": "display_data"
    }
   ],
   "source": [
    "img=mpimg.imread(image_path_2)\n",
    "imgplot = plt.imshow(img)\n",
    "plt.show()"
   ]
  },
  {
   "cell_type": "markdown",
   "metadata": {
    "colab_type": "text",
    "id": "ZuL6jcBAWBgS"
   },
   "source": [
    "## Get index of 1st image"
   ]
  },
  {
   "cell_type": "code",
   "execution_count": 49,
   "metadata": {
    "colab": {
     "base_uri": "https://localhost:8080/",
     "height": 35
    },
    "colab_type": "code",
    "id": "bX-suD-u-Bya",
    "outputId": "8e437a68-ca04-4b2c-bfb8-0842312aeee5"
   },
   "outputs": [
    {
     "data": {
      "text/plain": [
       "[(582, 'file_name')]"
      ]
     },
     "execution_count": 49,
     "metadata": {},
     "output_type": "execute_result"
    }
   ],
   "source": [
    "getIndexes(train, '057A17.JPG')"
   ]
  },
  {
   "cell_type": "markdown",
   "metadata": {
    "colab_type": "text",
    "id": "YcLCaHj5WIox"
   },
   "source": [
    "## Get index of 2nd image"
   ]
  },
  {
   "cell_type": "code",
   "execution_count": 50,
   "metadata": {
    "colab": {
     "base_uri": "https://localhost:8080/",
     "height": 35
    },
    "colab_type": "code",
    "id": "qGi6bXN3-qe2",
    "outputId": "4e9fe223-6ef0-43b3-af7b-53139a3789e0"
   },
   "outputs": [
    {
     "data": {
      "text/plain": [
       "[(386, 'file_name')]"
      ]
     },
     "execution_count": 50,
     "metadata": {},
     "output_type": "execute_result"
    }
   ],
   "source": [
    "getIndexes(train ,'032A18.JPG')"
   ]
  },
  {
   "cell_type": "code",
   "execution_count": 51,
   "metadata": {
    "colab": {},
    "colab_type": "code",
    "id": "ZQ2DmkhfAQbf"
   },
   "outputs": [],
   "source": [
    "train2=train"
   ]
  },
  {
   "cell_type": "markdown",
   "metadata": {
    "colab_type": "text",
    "id": "57srZFjFWezW"
   },
   "source": [
    "# Removing Both the images (for prediction) from the Training Set"
   ]
  },
  {
   "cell_type": "code",
   "execution_count": 52,
   "metadata": {
    "colab": {},
    "colab_type": "code",
    "id": "_0jtSe701eOd"
   },
   "outputs": [],
   "source": [
    "train2.drop([582,386],inplace=True)"
   ]
  },
  {
   "cell_type": "code",
   "execution_count": 53,
   "metadata": {
    "colab": {
     "base_uri": "https://localhost:8080/",
     "height": 35
    },
    "colab_type": "code",
    "id": "Tav4fIvGAbLV",
    "outputId": "80c417c7-b16c-4452-846f-4feadc04ba1c"
   },
   "outputs": [
    {
     "data": {
      "text/plain": [
       "(684, 84)"
      ]
     },
     "execution_count": 53,
     "metadata": {},
     "output_type": "execute_result"
    }
   ],
   "source": [
    "train2.shape"
   ]
  },
  {
   "cell_type": "markdown",
   "metadata": {
    "colab_type": "text",
    "id": "hUF3EvY2WvCO"
   },
   "source": [
    "### Saving the new Train data (without the 2 images)"
   ]
  },
  {
   "cell_type": "code",
   "execution_count": 54,
   "metadata": {
    "colab": {},
    "colab_type": "code",
    "id": "UeS76WLhBSJG"
   },
   "outputs": [],
   "source": [
    "# train2.to_csv('/content/drive/My Drive/Aging model/new/train2.csv',index=False)"
   ]
  },
  {
   "cell_type": "code",
   "execution_count": 55,
   "metadata": {
    "colab": {},
    "colab_type": "code",
    "id": "Ws2OPIKLEPTo"
   },
   "outputs": [],
   "source": [
    "train2=pd.read_csv(dir +'/train2.csv')"
   ]
  },
  {
   "cell_type": "code",
   "execution_count": 133,
   "metadata": {},
   "outputs": [],
   "source": [
    "test=pd.read_csv(dir+'/test.csv')"
   ]
  },
  {
   "cell_type": "code",
   "execution_count": 134,
   "metadata": {
    "colab": {
     "base_uri": "https://localhost:8080/",
     "height": 72
    },
    "colab_type": "code",
    "id": "6_nD1ldCAskL",
    "outputId": "50331370-8cb6-4b4d-dc6e-cc91affcf7bf"
   },
   "outputs": [
    {
     "name": "stdout",
     "output_type": "stream",
     "text": [
      "Training    Set Has: 58 people\n",
      "Validation  Set Has: 16 people\n",
      ".....Test   Set Has:  8 people\n"
     ]
    }
   ],
   "source": [
    "print('Training    Set Has: ' + str(len(train2.groupby('ID').count())) + ' people')\n",
    "print('Validation  Set Has: ' + str(len(valid.groupby('ID').count())) + ' people')\n",
    "print('.....Test   Set Has:  ' + str(len(test.groupby('ID').count())) + ' people')"
   ]
  },
  {
   "cell_type": "markdown",
   "metadata": {
    "colab_type": "text",
    "id": "RO398-B3A17E"
   },
   "source": [
    "## Target Labels"
   ]
  },
  {
   "cell_type": "code",
   "execution_count": 58,
   "metadata": {
    "colab": {
     "base_uri": "https://localhost:8080/",
     "height": 350
    },
    "colab_type": "code",
    "id": "5A5_wELbA7Tf",
    "outputId": "9c5f913a-3ec6-4227-8dfa-9a4d2a8b0267"
   },
   "outputs": [
    {
     "data": {
      "text/plain": [
       "Index(['ID', 'person_1', 'person_2', 'person_3', 'person_4', 'person_5',\n",
       "       'person_6', 'person_7', 'person_8', 'person_9', 'person_10',\n",
       "       'person_11', 'person_12', 'person_13', 'person_14', 'person_15',\n",
       "       'person_16', 'person_17', 'person_18', 'person_19', 'person_20',\n",
       "       'person_21', 'person_22', 'person_23', 'person_24', 'person_25',\n",
       "       'person_26', 'person_27', 'person_28', 'person_29', 'person_30',\n",
       "       'person_31', 'person_32', 'person_33', 'person_34', 'person_35',\n",
       "       'person_36', 'person_37', 'person_38', 'person_39', 'person_40',\n",
       "       'person_41', 'person_42', 'person_43', 'person_44', 'person_45',\n",
       "       'person_46', 'person_47', 'person_48', 'person_49', 'person_50',\n",
       "       'person_51', 'person_52', 'person_53', 'person_54', 'person_55',\n",
       "       'person_56', 'person_57', 'person_58', 'person_59', 'person_60',\n",
       "       'person_61', 'person_62', 'person_63', 'person_64', 'person_65',\n",
       "       'person_66', 'person_67', 'person_68', 'person_69', 'person_70',\n",
       "       'person_71', 'person_72', 'person_73', 'person_74', 'person_75',\n",
       "       'person_76', 'person_77', 'person_78', 'person_79', 'person_80',\n",
       "       'person_81', 'person_82', 'file_name'],\n",
       "      dtype='object')"
      ]
     },
     "execution_count": 58,
     "metadata": {},
     "output_type": "execute_result"
    }
   ],
   "source": [
    "train2.columns"
   ]
  },
  {
   "cell_type": "code",
   "execution_count": 59,
   "metadata": {
    "colab": {},
    "colab_type": "code",
    "id": "pxZkfmvDBIh8"
   },
   "outputs": [],
   "source": [
    "target_columns=['person_1', 'person_2', 'person_3', 'person_4', 'person_5',\n",
    "       'person_6', 'person_7', 'person_8', 'person_9', 'person_10',\n",
    "       'person_11', 'person_12', 'person_13', 'person_14', 'person_15',\n",
    "       'person_16', 'person_17', 'person_18', 'person_19', 'person_20',\n",
    "       'person_21', 'person_22', 'person_23', 'person_24', 'person_25',\n",
    "       'person_26', 'person_27', 'person_28', 'person_29', 'person_30',\n",
    "       'person_31', 'person_32', 'person_33', 'person_34', 'person_35',\n",
    "       'person_36', 'person_37', 'person_38', 'person_39', 'person_40',\n",
    "       'person_41', 'person_42', 'person_43', 'person_44', 'person_45',\n",
    "       'person_46', 'person_47', 'person_48', 'person_49', 'person_50',\n",
    "       'person_51', 'person_52', 'person_53', 'person_54', 'person_55',\n",
    "       'person_56', 'person_57', 'person_58', 'person_59', 'person_60',\n",
    "       'person_61', 'person_62', 'person_63', 'person_64', 'person_65',\n",
    "       'person_66', 'person_67', 'person_68', 'person_69', 'person_70',\n",
    "       'person_71', 'person_72', 'person_73', 'person_74', 'person_75',\n",
    "       'person_76', 'person_77', 'person_78', 'person_79', 'person_80',\n",
    "       'person_81', 'person_82']"
   ]
  },
  {
   "cell_type": "markdown",
   "metadata": {
    "colab_type": "text",
    "id": "89aiDvzvBoAv"
   },
   "source": [
    "# **Further Processing for developing Deep Leartning Model**"
   ]
  },
  {
   "cell_type": "markdown",
   "metadata": {
    "colab_type": "text",
    "id": "l88iSxs9CGEd"
   },
   "source": [
    "## **First doing Face Augmentation only for the Train Data**"
   ]
  },
  {
   "cell_type": "code",
   "execution_count": 60,
   "metadata": {
    "colab": {},
    "colab_type": "code",
    "id": "QfQ380bMCQTC"
   },
   "outputs": [],
   "source": [
    "## Defining Augmentation object using ImageDataGenerator\n",
    "TRAIN_DATAGEN = ImageDataGenerator(\n",
    "rescale=1./255,\n",
    "rotation_range=-40,\n",
    "width_shift_range=0.2,\n",
    "height_shift_range=0.2,\n",
    "shear_range=0.2,\n",
    "zoom_range=0.2,\n",
    "horizontal_flip=True,)"
   ]
  },
  {
   "cell_type": "markdown",
   "metadata": {
    "colab_type": "text",
    "id": "rc_kX_aiCaiq"
   },
   "source": [
    "## Train generator"
   ]
  },
  {
   "cell_type": "code",
   "execution_count": 61,
   "metadata": {
    "colab": {
     "base_uri": "https://localhost:8080/",
     "height": 35
    },
    "colab_type": "code",
    "id": "9-8KGvzzCdTY",
    "outputId": "b1cbfe06-11a5-403f-da01-47b523931d8d"
   },
   "outputs": [
    {
     "name": "stdout",
     "output_type": "stream",
     "text": [
      "Found 684 validated image filenames.\n"
     ]
    }
   ],
   "source": [
    "train_generator=TRAIN_DATAGEN.flow_from_dataframe(\n",
    "dataframe=train2,\n",
    "directory=dir +\"/fg\",\n",
    "x_col='file_name',\n",
    "y_col=target_columns,\n",
    "batch_size=32,\n",
    "seed=42,\n",
    "#new\n",
    "color_mode=\"rgb\",\n",
    "shuffle=True,class_mode='raw',\n",
    "target_size=(150,150))"
   ]
  },
  {
   "cell_type": "markdown",
   "metadata": {
    "colab_type": "text",
    "id": "kLuGvTPoCjeg"
   },
   "source": [
    "## Validation generator"
   ]
  },
  {
   "cell_type": "code",
   "execution_count": 62,
   "metadata": {
    "colab": {
     "base_uri": "https://localhost:8080/",
     "height": 35
    },
    "colab_type": "code",
    "id": "gjO8zLk_Cm8o",
    "outputId": "5b458748-cf2d-45f4-f605-9617888cebee"
   },
   "outputs": [
    {
     "name": "stdout",
     "output_type": "stream",
     "text": [
      "Found 212 validated image filenames.\n"
     ]
    }
   ],
   "source": [
    "valid_datagen = ImageDataGenerator(rescale=1./255)\n",
    "\n",
    "valid_generator=valid_datagen.flow_from_dataframe(\n",
    "dataframe=valid,\n",
    "directory=dir +\"/fg\",\n",
    "x_col='file_name',\n",
    "y_col=target_columns,\n",
    "batch_size=32,\n",
    "seed=42,\n",
    "#new\n",
    "color_mode=\"rgb\",\n",
    "shuffle=True,class_mode='raw',\n",
    "target_size=(150,150))\n",
    "#note use Shuffle false to get reproducable results"
   ]
  },
  {
   "cell_type": "markdown",
   "metadata": {
    "colab_type": "text",
    "id": "SDn2YN7eCsVo"
   },
   "source": [
    "##  Test generator\n",
    "\n"
   ]
  },
  {
   "cell_type": "code",
   "execution_count": 63,
   "metadata": {
    "colab": {
     "base_uri": "https://localhost:8080/",
     "height": 35
    },
    "colab_type": "code",
    "id": "t6HwJUshCu8D",
    "outputId": "dc95f13c-c4f1-4b02-d492-c2390afd9b6b"
   },
   "outputs": [
    {
     "name": "stdout",
     "output_type": "stream",
     "text": [
      "Found 104 validated image filenames.\n"
     ]
    }
   ],
   "source": [
    "test_datagen = ImageDataGenerator(rescale=1./255)\n",
    "\n",
    "test_generator=test_datagen.flow_from_dataframe(\n",
    "dataframe=test,\n",
    "directory=dir +\"/fg\",\n",
    "x_col='file_name',\n",
    "y_col=target_columns,\n",
    "batch_size=32,\n",
    "seed=42,\n",
    "#new\n",
    "color_mode=\"rgb\",\n",
    "shuffle=True,class_mode='raw',\n",
    "target_size=(150,150))\n",
    "#note use Shuffle false to get reproducable results"
   ]
  },
  {
   "cell_type": "markdown",
   "metadata": {
    "colab_type": "text",
    "id": "2Zbmd-t4C21g"
   },
   "source": [
    "# **Buidling Convlutional Network Model**"
   ]
  },
  {
   "cell_type": "code",
   "execution_count": 64,
   "metadata": {
    "colab": {},
    "colab_type": "code",
    "id": "L3cx_ZQRDBqs"
   },
   "outputs": [],
   "source": [
    "# adding regularization\n",
    "from keras.regularizers import l2\n",
    "from keras.layers.advanced_activations import LeakyReLU\n",
    "act = LeakyReLU(alpha=0.1)"
   ]
  },
  {
   "cell_type": "markdown",
   "metadata": {
    "colab_type": "text",
    "id": "DVAclwFRXERM"
   },
   "source": [
    "# The Model"
   ]
  },
  {
   "cell_type": "code",
   "execution_count": 65,
   "metadata": {
    "colab": {},
    "colab_type": "code",
    "id": "1sh7W4SjC1IS"
   },
   "outputs": [],
   "source": [
    "## \n",
    "model6 =Sequential()\n",
    "\n",
    "model6.add(Conv2D(32, (3, 3), input_shape=(150,150, 3)))\n",
    "model6.add(act)\n",
    "model6.add(MaxPooling2D((2, 2)))\n",
    "model6.add(Dropout(0.2))\n",
    "\n",
    "\n",
    "model6.add(Conv2D(64, (3, 3)))\n",
    "model6.add(act)\n",
    "model6.add(MaxPooling2D((2, 2)))\n",
    "model6.add(Dropout(0.2))\n",
    "\n",
    "\n",
    "#model6.add(Conv2D(128, (3,3), kernel_regularizer=l2(0.01), bias_regularizer=l2(0.01)))\n",
    "model6.add(Conv2D(128, (3, 3)))\n",
    "model6.add(act)\n",
    "model6.add(MaxPooling2D((2, 2)))\n",
    "model6.add(Dropout(0.2))\n",
    "\n",
    "\n",
    "#model6.add(Conv2D(128, (3,3), kernel_regularizer=l2(0.01), bias_regularizer=l2(0.01)))\n",
    "model6.add(Conv2D(128, (3, 3)))\n",
    "model6.add(act)\n",
    "model6.add(MaxPooling2D((2, 2)))\n",
    "model6.add(Dropout(0.2))\n",
    "\n",
    "\n",
    "model6.add(Conv2D(256, (3, 3)))\n",
    "model6.add(act)\n",
    "model6.add(MaxPooling2D((2, 2)))\n",
    "model6.add(Dropout(0.2))\n",
    "\n",
    "model6.add(Flatten())\n",
    "model6.add(Dropout(0.2))\n",
    "model6.add(Dense(512))\n",
    "model6.add(act)\n",
    "model6.add(Dense(82, activation='sigmoid'))\n"
   ]
  },
  {
   "cell_type": "markdown",
   "metadata": {
    "colab_type": "text",
    "id": "x7aJqHHDgiVf"
   },
   "source": [
    "# Summary of the Model "
   ]
  },
  {
   "cell_type": "code",
   "execution_count": 66,
   "metadata": {
    "colab": {
     "base_uri": "https://localhost:8080/",
     "height": 904
    },
    "colab_type": "code",
    "id": "ArFXMTl6gmtN",
    "outputId": "c098b25d-7d5c-4ef7-a663-2407ffb47178"
   },
   "outputs": [
    {
     "name": "stdout",
     "output_type": "stream",
     "text": [
      "Model: \"sequential_1\"\n",
      "_________________________________________________________________\n",
      "Layer (type)                 Output Shape              Param #   \n",
      "=================================================================\n",
      "conv2d_1 (Conv2D)            (None, 148, 148, 32)      896       \n",
      "_________________________________________________________________\n",
      "leaky_re_lu_1 (LeakyReLU)    multiple                  0         \n",
      "_________________________________________________________________\n",
      "max_pooling2d_1 (MaxPooling2 (None, 74, 74, 32)        0         \n",
      "_________________________________________________________________\n",
      "dropout_1 (Dropout)          (None, 74, 74, 32)        0         \n",
      "_________________________________________________________________\n",
      "conv2d_2 (Conv2D)            (None, 72, 72, 64)        18496     \n",
      "_________________________________________________________________\n",
      "max_pooling2d_2 (MaxPooling2 (None, 36, 36, 64)        0         \n",
      "_________________________________________________________________\n",
      "dropout_2 (Dropout)          (None, 36, 36, 64)        0         \n",
      "_________________________________________________________________\n",
      "conv2d_3 (Conv2D)            (None, 34, 34, 128)       73856     \n",
      "_________________________________________________________________\n",
      "max_pooling2d_3 (MaxPooling2 (None, 17, 17, 128)       0         \n",
      "_________________________________________________________________\n",
      "dropout_3 (Dropout)          (None, 17, 17, 128)       0         \n",
      "_________________________________________________________________\n",
      "conv2d_4 (Conv2D)            (None, 15, 15, 128)       147584    \n",
      "_________________________________________________________________\n",
      "max_pooling2d_4 (MaxPooling2 (None, 7, 7, 128)         0         \n",
      "_________________________________________________________________\n",
      "dropout_4 (Dropout)          (None, 7, 7, 128)         0         \n",
      "_________________________________________________________________\n",
      "conv2d_5 (Conv2D)            (None, 5, 5, 256)         295168    \n",
      "_________________________________________________________________\n",
      "max_pooling2d_5 (MaxPooling2 (None, 2, 2, 256)         0         \n",
      "_________________________________________________________________\n",
      "dropout_5 (Dropout)          (None, 2, 2, 256)         0         \n",
      "_________________________________________________________________\n",
      "flatten_1 (Flatten)          (None, 1024)              0         \n",
      "_________________________________________________________________\n",
      "dropout_6 (Dropout)          (None, 1024)              0         \n",
      "_________________________________________________________________\n",
      "dense_1 (Dense)              (None, 512)               524800    \n",
      "_________________________________________________________________\n",
      "dense_2 (Dense)              (None, 82)                42066     \n",
      "=================================================================\n",
      "Total params: 1,102,866\n",
      "Trainable params: 1,102,866\n",
      "Non-trainable params: 0\n",
      "_________________________________________________________________\n"
     ]
    }
   ],
   "source": [
    "model6.summary()"
   ]
  },
  {
   "cell_type": "markdown",
   "metadata": {
    "colab_type": "text",
    "id": "k5EcKTvEDKfa"
   },
   "source": [
    "## Compiling Model"
   ]
  },
  {
   "cell_type": "code",
   "execution_count": 67,
   "metadata": {
    "colab": {},
    "colab_type": "code",
    "id": "qhojiq36DNMB"
   },
   "outputs": [],
   "source": [
    "model6.compile(loss='binary_crossentropy',\n",
    "optimizer=optimizers.Adam(learning_rate=1e-5),\n",
    "metrics=['accuracy'])"
   ]
  },
  {
   "cell_type": "markdown",
   "metadata": {
    "colab_type": "text",
    "id": "NNjFjvDqCztA"
   },
   "source": [
    "# **Training Begins**"
   ]
  },
  {
   "cell_type": "code",
   "execution_count": 68,
   "metadata": {
    "colab": {
     "base_uri": "https://localhost:8080/",
     "height": 481
    },
    "colab_type": "code",
    "id": "X-gMmFbWDwHE",
    "outputId": "48627751-dabf-47ee-baf9-bac0c10db77e"
   },
   "outputs": [],
   "source": [
    "# STEP_SIZE_TRAIN=train_generator.n//train_generator.batch_size\n",
    "# STEP_SIZE_VALID=valid_generator.n//valid_generator.batch_size\n",
    "\n",
    "# history=model6.fit_generator(generator=train_generator,\n",
    "#                     steps_per_epoch=STEP_SIZE_TRAIN,\n",
    "#                     validation_data=valid_generator,\n",
    "#                     validation_steps=STEP_SIZE_VALID,\n",
    "#                     epochs=12 \n",
    "                   \n",
    "# )"
   ]
  },
  {
   "cell_type": "markdown",
   "metadata": {
    "colab_type": "text",
    "id": "rw6T93i0aOWK"
   },
   "source": [
    "# Saving the Model"
   ]
  },
  {
   "cell_type": "code",
   "execution_count": 69,
   "metadata": {
    "colab": {},
    "colab_type": "code",
    "id": "pkCOSOLhaima"
   },
   "outputs": [],
   "source": [
    "# model_path='/content/drive/My Drive/Aging model/new/model_july30.h5'\n",
    "# # saving model\n",
    "# model6.save(model_path)"
   ]
  },
  {
   "cell_type": "markdown",
   "metadata": {
    "colab_type": "text",
    "id": "0_1KTupqcdcq"
   },
   "source": [
    "# Loading the Saved Model"
   ]
  },
  {
   "cell_type": "code",
   "execution_count": 70,
   "metadata": {
    "colab": {},
    "colab_type": "code",
    "id": "1vHJdXd8chET"
   },
   "outputs": [],
   "source": [
    "from keras.models import load_model \n",
    "model_path=dir +'/model_july30.h5'\n",
    "loaded_model = load_model(model_path) "
   ]
  },
  {
   "cell_type": "markdown",
   "metadata": {
    "colab_type": "text",
    "id": "2VCk6EPLabW4"
   },
   "source": [
    "# Saving Losses and Accuracy History Parameters of the Model"
   ]
  },
  {
   "cell_type": "code",
   "execution_count": 71,
   "metadata": {
    "colab": {},
    "colab_type": "code",
    "id": "OP-tUGB7af3s"
   },
   "outputs": [],
   "source": [
    "# import json\n",
    "# # Get the dictionary containing each metric and the loss for each epoch\n",
    "# history_dict = history.history\n",
    "# # Save it under the form of a json file\n",
    "# history_path=dir +'/content/drive/My Drive/Aging model/new/history_july30.json'\n",
    "# json.dump(str(history_dict), open(history_path, 'w'))"
   ]
  },
  {
   "cell_type": "code",
   "execution_count": 72,
   "metadata": {
    "colab": {},
    "colab_type": "code",
    "id": "v15F4DPhaRQ7"
   },
   "outputs": [],
   "source": [
    "model_path=dir +'/model_july30.h5'"
   ]
  },
  {
   "cell_type": "markdown",
   "metadata": {
    "colab_type": "text",
    "id": "wa_63Ku2bVwo"
   },
   "source": [
    "# Loading History of Accuracy and Losses of the Model"
   ]
  },
  {
   "cell_type": "code",
   "execution_count": 73,
   "metadata": {
    "colab": {},
    "colab_type": "code",
    "id": "ibklihC7bX2Y"
   },
   "outputs": [],
   "source": [
    "import json\n",
    "history_path=dir +'/history_july30.json'\n",
    "history= json.load(open(history_path, 'r'))"
   ]
  },
  {
   "cell_type": "code",
   "execution_count": 74,
   "metadata": {
    "colab": {},
    "colab_type": "code",
    "id": "pLCGv9CLdpvx"
   },
   "outputs": [],
   "source": [
    "# The loaded history is in String format.Converting it back to\n",
    "# dictionary\n",
    "import ast\n",
    "history_1=ast.literal_eval(history)"
   ]
  },
  {
   "cell_type": "markdown",
   "metadata": {
    "colab_type": "text",
    "id": "3IgBtOaibjCD"
   },
   "source": [
    "# **Plotting Losses and Accuracy History of the Model**"
   ]
  },
  {
   "cell_type": "code",
   "execution_count": 75,
   "metadata": {
    "colab": {
     "base_uri": "https://localhost:8080/",
     "height": 545
    },
    "colab_type": "code",
    "id": "vsiaAEE7d7Ws",
    "outputId": "2fb6f370-c5f4-40c9-f414-d789deb82051",
    "scrolled": true
   },
   "outputs": [
    {
     "data": {
      "image/png": "[encoded data removed]",
      "text/plain": [
       "<Figure size 432x288 with 1 Axes>"
      ]
     },
     "metadata": {
      "needs_background": "light"
     },
     "output_type": "display_data"
    },
    {
     "data": {
      "image/png": "[encoded data removed]",
      "text/plain": [
       "<Figure size 432x288 with 1 Axes>"
      ]
     },
     "metadata": {
      "needs_background": "light"
     },
     "output_type": "display_data"
    }
   ],
   "source": [
    "### .\n",
    "acc = history_1['accuracy']\n",
    "val_acc = history_1['val_accuracy']\n",
    "loss = history_1['loss']\n",
    "val_loss = history_1['val_loss']\n",
    "epochs = range(1, len(acc) + 1)\n",
    "plt.plot(epochs, acc, 'r', label='Training acc')\n",
    "plt.plot(epochs, val_acc, 'b', label='Validation acc')\n",
    "plt.title('Training and validation accuracy')\n",
    "plt.legend()\n",
    "plt.figure()\n",
    "plt.plot(epochs, loss, 'r', label='Training loss')\n",
    "plt.plot(epochs, val_loss, 'b', label='Validation loss')\n",
    "plt.title('Training and validation loss')\n",
    "plt.legend()\n",
    "plt.show()"
   ]
  },
  {
   "cell_type": "markdown",
   "metadata": {},
   "source": [
    "# Loading pre trained Model"
   ]
  },
  {
   "cell_type": "code",
   "execution_count": 76,
   "metadata": {},
   "outputs": [],
   "source": [
    "from keras.models import load_model \n",
    "model_path=dir +'/model_july30.h5'\n",
    "loaded_model = load_model(model_path) "
   ]
  },
  {
   "cell_type": "markdown",
   "metadata": {
    "colab_type": "text",
    "id": "Ueeo-N8gBxqH"
   },
   "source": [
    "## **Model Evaluation on un seen data** (i.e Test Data)"
   ]
  },
  {
   "cell_type": "code",
   "execution_count": 77,
   "metadata": {},
   "outputs": [],
   "source": [
    "import PIL\n",
    "from keras_preprocessing import image"
   ]
  },
  {
   "cell_type": "code",
   "execution_count": 84,
   "metadata": {},
   "outputs": [
    {
     "name": "stdout",
     "output_type": "stream",
     "text": [
      "Test loss: 0.1133766919374466\n",
      "Test accuracy: 0.9878048300743103\n"
     ]
    }
   ],
   "source": [
    "score=loaded_model.evaluate_generator(test_generator)\n",
    "print('Test loss:', score[0])\n",
    "print('Test accuracy:', score[1])"
   ]
  },
  {
   "cell_type": "markdown",
   "metadata": {},
   "source": [
    "# We can see that we have 98% accuracy and 10% losses on the unseen data (i.e The Test data)"
   ]
  },
  {
   "cell_type": "markdown",
   "metadata": {},
   "source": [
    "# *xxxxxxxxxxxxxxxxxxxxxxxxxxxxxxxxxxxxxxxxxxxxxxxxx*"
   ]
  },
  {
   "cell_type": "markdown",
   "metadata": {},
   "source": [
    "# *xxxxxxxxxxxxxxxxxxxxxxxxxxxxxxxxxxxxxxxxxxxxxxxxx*"
   ]
  },
  {
   "cell_type": "markdown",
   "metadata": {
    "colab_type": "text",
    "id": "bKZxpQ7bV7Zd"
   },
   "source": [
    "# **Predictions**"
   ]
  },
  {
   "cell_type": "markdown",
   "metadata": {
    "colab_type": "text",
    "id": "Ynioh7fGby4H"
   },
   "source": [
    "# Prediction of Classes for the 2 Images taken out before training"
   ]
  },
  {
   "cell_type": "markdown",
   "metadata": {
    "colab_type": "text",
    "id": "ffjd7pw-b6K6"
   },
   "source": [
    "# Predicting class for 057A17.JPG (which has Class=57)"
   ]
  },
  {
   "cell_type": "code",
   "execution_count": 79,
   "metadata": {
    "colab": {
     "base_uri": "https://localhost:8080/",
     "height": 287
    },
    "colab_type": "code",
    "id": "HpxHa015g1GS",
    "outputId": "2198188c-e03c-4aeb-b63f-3e4139177879"
   },
   "outputs": [
    {
     "name": "stdout",
     "output_type": "stream",
     "text": [
      "Populating the interactive namespace from numpy and matplotlib\n"
     ]
    },
    {
     "name": "stderr",
     "output_type": "stream",
     "text": [
      "E:\\anaconda\\envs\\tf\\lib\\site-packages\\IPython\\core\\magics\\pylab.py:160: UserWarning: pylab import has clobbered these variables: ['test']\n",
      "`%matplotlib` prevents importing * from pylab and numpy\n",
      "  \"\\n`%matplotlib` prevents importing * from pylab and numpy\"\n"
     ]
    },
    {
     "data": {
      "image/png": "[encoded data removed]",
      "text/plain": [
       "<Figure size 432x288 with 1 Axes>"
      ]
     },
     "metadata": {
      "needs_background": "light"
     },
     "output_type": "display_data"
    }
   ],
   "source": [
    "%pylab inline\n",
    "import matplotlib.pyplot as plt\n",
    "import matplotlib.image as mpimg\n",
    "img=mpimg.imread(image_path_1)\n",
    "imgplot = plt.imshow(img)\n",
    "plt.show()"
   ]
  },
  {
   "cell_type": "code",
   "execution_count": 80,
   "metadata": {
    "colab": {},
    "colab_type": "code",
    "id": "m345gVLub72U"
   },
   "outputs": [],
   "source": [
    "from keras_preprocessing import image"
   ]
  },
  {
   "cell_type": "code",
   "execution_count": 81,
   "metadata": {
    "colab": {
     "base_uri": "https://localhost:8080/",
     "height": 35
    },
    "colab_type": "code",
    "id": "MgFBnM-VcImO",
    "outputId": "734cbdfd-a467-42dc-fb87-c1fd84b2955b"
   },
   "outputs": [
    {
     "data": {
      "text/plain": [
       "array([57], dtype=int64)"
      ]
     },
     "execution_count": 81,
     "metadata": {},
     "output_type": "execute_result"
    }
   ],
   "source": [
    "test_image = image.load_img(image_path_1, target_size=(150, 150))\n",
    "test_image = image.img_to_array(test_image)\n",
    "test_image=test_image/255\n",
    "test_image = np.expand_dims(test_image, axis=0)\n",
    "test_generator.reset()\n",
    "\n",
    "prediction = loaded_model.predict(test_image)\n",
    "\n",
    "\n",
    "np.argmax(prediction, axis=1)"
   ]
  },
  {
   "cell_type": "markdown",
   "metadata": {
    "colab_type": "text",
    "id": "-171VxOifWvA"
   },
   "source": [
    "# The Prediction for the un seen image 057A17.JPG of Class 57 is correct as 57 "
   ]
  },
  {
   "cell_type": "markdown",
   "metadata": {
    "colab_type": "text",
    "id": "pOrXtrxef7Jm"
   },
   "source": [
    "# Predicting class for 032A18.JPG (which has Class=32)"
   ]
  },
  {
   "cell_type": "code",
   "execution_count": 82,
   "metadata": {
    "colab": {
     "base_uri": "https://localhost:8080/",
     "height": 269
    },
    "colab_type": "code",
    "id": "taSCd5cAg-jk",
    "outputId": "241a1d38-742b-4afa-9d7b-d823d756480b"
   },
   "outputs": [
    {
     "data": {
      "image/png": "[encoded data removed]",
      "text/plain": [
       "<Figure size 432x288 with 1 Axes>"
      ]
     },
     "metadata": {
      "needs_background": "light"
     },
     "output_type": "display_data"
    }
   ],
   "source": [
    "img=mpimg.imread(image_path_2)\n",
    "imgplot = plt.imshow(img)\n",
    "plt.show()"
   ]
  },
  {
   "cell_type": "code",
   "execution_count": 83,
   "metadata": {
    "colab": {
     "base_uri": "https://localhost:8080/",
     "height": 35
    },
    "colab_type": "code",
    "id": "jetmKgTdM6OX",
    "outputId": "eac7ce45-a61b-4da2-ebcc-9cfa24ba3728"
   },
   "outputs": [
    {
     "data": {
      "text/plain": [
       "array([32], dtype=int64)"
      ]
     },
     "execution_count": 83,
     "metadata": {},
     "output_type": "execute_result"
    }
   ],
   "source": [
    "test_image = image.load_img(image_path_2, target_size=(150, 150))\n",
    "test_image = image.img_to_array(test_image)\n",
    "test_image=test_image/255\n",
    "test_image = np.expand_dims(test_image, axis=0)\n",
    "test_generator.reset()\n",
    "\n",
    "prediction = loaded_model.predict(test_image)\n",
    "\n",
    "\n",
    "np.argmax(prediction, axis=1)"
   ]
  },
  {
   "cell_type": "markdown",
   "metadata": {
    "colab_type": "text",
    "id": "UYzyXJeTgKX_"
   },
   "source": [
    "# The Prediction for the un seen image 032A18.JPG of Class 32 is correct as 32 "
   ]
  },
  {
   "cell_type": "markdown",
   "metadata": {},
   "source": [
    "# Newwwww 000"
   ]
  },
  {
   "cell_type": "code",
   "execution_count": 116,
   "metadata": {},
   "outputs": [],
   "source": [
    "loaded_wts=loaded_model.get_weights"
   ]
  },
  {
   "cell_type": "code",
   "execution_count": 117,
   "metadata": {},
   "outputs": [
    {
     "data": {
      "text/plain": [
       "<bound method Network.get_weights of <keras.engine.sequential.Sequential object at 0x000001CBF8044BE0>>"
      ]
     },
     "execution_count": 117,
     "metadata": {},
     "output_type": "execute_result"
    }
   ],
   "source": [
    "loaded_wts"
   ]
  },
  {
   "cell_type": "markdown",
   "metadata": {},
   "source": [
    "# NEWWWWWWWWWWWWWWWWW"
   ]
  },
  {
   "cell_type": "code",
   "execution_count": 86,
   "metadata": {},
   "outputs": [],
   "source": [
    "# test_ids= [ 34,35, 36, 37, 38, 39, 40, 41] \n",
    "\n",
    "test_steps_per_epoch = np.math.ceil(test_generator.samples / test_generator.batch_size)\n",
    "test_generator.reset()\n",
    "predictions = loaded_model.predict_generator(test_generator, steps=test_steps_per_epoch,verbose=0)\n",
    "\n",
    "# Get most likely class\n",
    "predicted_classes = np.argmax(predictions, axis=1)"
   ]
  },
  {
   "cell_type": "code",
   "execution_count": 87,
   "metadata": {
    "scrolled": true
   },
   "outputs": [
    {
     "data": {
      "text/plain": [
       "array([32, 32, 32, 32, 32, 57, 32, 32, 32, 32, 32, 32, 32, 32, 32, 32, 32,\n",
       "       32, 32, 57, 32, 32, 32, 32, 32, 57, 32, 32, 32, 32, 32, 32, 32, 32,\n",
       "       32, 32, 57, 32, 57, 32, 32, 32, 32, 32, 32, 32, 32, 32, 32, 32, 32,\n",
       "       57, 32, 57, 32, 32, 32, 32, 32, 57, 32, 57, 32, 32, 57, 32, 57, 32,\n",
       "       32, 32, 32, 32, 32, 32, 32, 32, 57, 32, 32, 32, 32, 32, 32, 32, 32,\n",
       "       32, 32, 57, 32, 32, 32, 57, 32, 32, 32, 32, 32, 32, 32, 32, 32, 32,\n",
       "       32, 32], dtype=int64)"
      ]
     },
     "execution_count": 87,
     "metadata": {},
     "output_type": "execute_result"
    }
   ],
   "source": [
    "predicted_classes"
   ]
  },
  {
   "cell_type": "markdown",
   "metadata": {},
   "source": [
    "## Now actual classes"
   ]
  },
  {
   "cell_type": "code",
   "execution_count": 120,
   "metadata": {},
   "outputs": [
    {
     "data": {
      "text/plain": [
       "<bound method DataFrameIterator.get_classes of <keras_preprocessing.image.dataframe_iterator.DataFrameIterator object at 0x000001CBF460EEF0>>"
      ]
     },
     "execution_count": 120,
     "metadata": {},
     "output_type": "execute_result"
    }
   ],
   "source": [
    "valid_generator.get_classes"
   ]
  },
  {
   "cell_type": "code",
   "execution_count": 140,
   "metadata": {},
   "outputs": [
    {
     "ename": "TypeError",
     "evalue": "get_classes() missing 2 required positional arguments: 'df' and 'y_col'",
     "output_type": "error",
     "traceback": [
      "\u001b[1;31m---------------------------------------------------------------------------\u001b[0m",
      "\u001b[1;31mTypeError\u001b[0m                                 Traceback (most recent call last)",
      "\u001b[1;32m<ipython-input-140-2f50eb1ab3e4>\u001b[0m in \u001b[0;36m<module>\u001b[1;34m\u001b[0m\n\u001b[1;32m----> 1\u001b[1;33m \u001b[0mtrue_classes\u001b[0m\u001b[1;33m=\u001b[0m\u001b[0mvalid_generator\u001b[0m\u001b[1;33m.\u001b[0m\u001b[0mget_classes\u001b[0m\u001b[1;33m(\u001b[0m\u001b[1;33m)\u001b[0m\u001b[1;33m\u001b[0m\u001b[1;33m\u001b[0m\u001b[0m\n\u001b[0m",
      "\u001b[1;31mTypeError\u001b[0m: get_classes() missing 2 required positional arguments: 'df' and 'y_col'"
     ]
    }
   ],
   "source": [
    "true_classes=valid_generator.get_classes()"
   ]
  },
  {
   "cell_type": "code",
   "execution_count": 141,
   "metadata": {},
   "outputs": [
    {
     "ename": "AttributeError",
     "evalue": "'DataFrameIterator' object has no attribute 'class_indices'",
     "output_type": "error",
     "traceback": [
      "\u001b[1;31m---------------------------------------------------------------------------\u001b[0m",
      "\u001b[1;31mAttributeError\u001b[0m                            Traceback (most recent call last)",
      "\u001b[1;32m<ipython-input-141-14e96ee4b4de>\u001b[0m in \u001b[0;36m<module>\u001b[1;34m\u001b[0m\n\u001b[1;32m----> 1\u001b[1;33m \u001b[0mtrue_classes\u001b[0m\u001b[1;33m=\u001b[0m\u001b[0mvalid_generator\u001b[0m\u001b[1;33m.\u001b[0m\u001b[0mget_classes\u001b[0m\u001b[1;33m(\u001b[0m\u001b[0mdf\u001b[0m\u001b[1;33m=\u001b[0m\u001b[0mvalid\u001b[0m\u001b[1;33m,\u001b[0m\u001b[0my_col\u001b[0m\u001b[1;33m=\u001b[0m\u001b[0mtarget_columns\u001b[0m\u001b[1;33m)\u001b[0m\u001b[1;33m\u001b[0m\u001b[1;33m\u001b[0m\u001b[0m\n\u001b[0m",
      "\u001b[1;32mE:\\anaconda\\envs\\tf\\lib\\site-packages\\keras_preprocessing\\image\\dataframe_iterator.py\u001b[0m in \u001b[0;36mget_classes\u001b[1;34m(self, df, y_col)\u001b[0m\n\u001b[0;32m    221\u001b[0m                 \u001b[0mlabels\u001b[0m\u001b[1;33m.\u001b[0m\u001b[0mappend\u001b[0m\u001b[1;33m(\u001b[0m\u001b[1;33m[\u001b[0m\u001b[0mself\u001b[0m\u001b[1;33m.\u001b[0m\u001b[0mclass_indices\u001b[0m\u001b[1;33m[\u001b[0m\u001b[0mlbl\u001b[0m\u001b[1;33m]\u001b[0m \u001b[1;32mfor\u001b[0m \u001b[0mlbl\u001b[0m \u001b[1;32min\u001b[0m \u001b[0mlabel\u001b[0m\u001b[1;33m]\u001b[0m\u001b[1;33m)\u001b[0m\u001b[1;33m\u001b[0m\u001b[1;33m\u001b[0m\u001b[0m\n\u001b[0;32m    222\u001b[0m             \u001b[1;32melse\u001b[0m\u001b[1;33m:\u001b[0m\u001b[1;33m\u001b[0m\u001b[1;33m\u001b[0m\u001b[0m\n\u001b[1;32m--> 223\u001b[1;33m                 \u001b[0mlabels\u001b[0m\u001b[1;33m.\u001b[0m\u001b[0mappend\u001b[0m\u001b[1;33m(\u001b[0m\u001b[0mself\u001b[0m\u001b[1;33m.\u001b[0m\u001b[0mclass_indices\u001b[0m\u001b[1;33m[\u001b[0m\u001b[0mlabel\u001b[0m\u001b[1;33m]\u001b[0m\u001b[1;33m)\u001b[0m\u001b[1;33m\u001b[0m\u001b[1;33m\u001b[0m\u001b[0m\n\u001b[0m\u001b[0;32m    224\u001b[0m         \u001b[1;32mreturn\u001b[0m \u001b[0mlabels\u001b[0m\u001b[1;33m\u001b[0m\u001b[1;33m\u001b[0m\u001b[0m\n\u001b[0;32m    225\u001b[0m \u001b[1;33m\u001b[0m\u001b[0m\n",
      "\u001b[1;31mAttributeError\u001b[0m: 'DataFrameIterator' object has no attribute 'class_indices'"
     ]
    }
   ],
   "source": [
    "#true_classes=valid_generator.get_classes(df=valid,y_col=target_columns)\n",
    "true_classes=valid_generator.get_classes.\n"
   ]
  },
  {
   "cell_type": "code",
   "execution_count": 123,
   "metadata": {},
   "outputs": [],
   "source": [
    "from sklearn.metrics import confusion_matrix"
   ]
  },
  {
   "cell_type": "code",
   "execution_count": 126,
   "metadata": {},
   "outputs": [
    {
     "ename": "TypeError",
     "evalue": "Expected sequence or array-like, got <class 'method'>",
     "output_type": "error",
     "traceback": [
      "\u001b[1;31m---------------------------------------------------------------------------\u001b[0m",
      "\u001b[1;31mTypeError\u001b[0m                                 Traceback (most recent call last)",
      "\u001b[1;32m<ipython-input-126-742c69167c10>\u001b[0m in \u001b[0;36m<module>\u001b[1;34m\u001b[0m\n\u001b[1;32m----> 1\u001b[1;33m \u001b[0mcm\u001b[0m \u001b[1;33m=\u001b[0m \u001b[0mconfusion_matrix\u001b[0m\u001b[1;33m(\u001b[0m\u001b[0mtrue_classes\u001b[0m\u001b[1;33m,\u001b[0m \u001b[0mpredicted_classes\u001b[0m\u001b[1;33m)\u001b[0m\u001b[1;33m\u001b[0m\u001b[1;33m\u001b[0m\u001b[0m\n\u001b[0m",
      "\u001b[1;32mE:\\anaconda\\envs\\tf\\lib\\site-packages\\sklearn\\utils\\validation.py\u001b[0m in \u001b[0;36minner_f\u001b[1;34m(*args, **kwargs)\u001b[0m\n\u001b[0;32m     70\u001b[0m                           FutureWarning)\n\u001b[0;32m     71\u001b[0m         \u001b[0mkwargs\u001b[0m\u001b[1;33m.\u001b[0m\u001b[0mupdate\u001b[0m\u001b[1;33m(\u001b[0m\u001b[1;33m{\u001b[0m\u001b[0mk\u001b[0m\u001b[1;33m:\u001b[0m \u001b[0marg\u001b[0m \u001b[1;32mfor\u001b[0m \u001b[0mk\u001b[0m\u001b[1;33m,\u001b[0m \u001b[0marg\u001b[0m \u001b[1;32min\u001b[0m \u001b[0mzip\u001b[0m\u001b[1;33m(\u001b[0m\u001b[0msig\u001b[0m\u001b[1;33m.\u001b[0m\u001b[0mparameters\u001b[0m\u001b[1;33m,\u001b[0m \u001b[0margs\u001b[0m\u001b[1;33m)\u001b[0m\u001b[1;33m}\u001b[0m\u001b[1;33m)\u001b[0m\u001b[1;33m\u001b[0m\u001b[1;33m\u001b[0m\u001b[0m\n\u001b[1;32m---> 72\u001b[1;33m         \u001b[1;32mreturn\u001b[0m \u001b[0mf\u001b[0m\u001b[1;33m(\u001b[0m\u001b[1;33m**\u001b[0m\u001b[0mkwargs\u001b[0m\u001b[1;33m)\u001b[0m\u001b[1;33m\u001b[0m\u001b[1;33m\u001b[0m\u001b[0m\n\u001b[0m\u001b[0;32m     73\u001b[0m     \u001b[1;32mreturn\u001b[0m \u001b[0minner_f\u001b[0m\u001b[1;33m\u001b[0m\u001b[1;33m\u001b[0m\u001b[0m\n\u001b[0;32m     74\u001b[0m \u001b[1;33m\u001b[0m\u001b[0m\n",
      "\u001b[1;32mE:\\anaconda\\envs\\tf\\lib\\site-packages\\sklearn\\metrics\\_classification.py\u001b[0m in \u001b[0;36mconfusion_matrix\u001b[1;34m(y_true, y_pred, labels, sample_weight, normalize)\u001b[0m\n\u001b[0;32m    274\u001b[0m \u001b[1;33m\u001b[0m\u001b[0m\n\u001b[0;32m    275\u001b[0m     \"\"\"\n\u001b[1;32m--> 276\u001b[1;33m     \u001b[0my_type\u001b[0m\u001b[1;33m,\u001b[0m \u001b[0my_true\u001b[0m\u001b[1;33m,\u001b[0m \u001b[0my_pred\u001b[0m \u001b[1;33m=\u001b[0m \u001b[0m_check_targets\u001b[0m\u001b[1;33m(\u001b[0m\u001b[0my_true\u001b[0m\u001b[1;33m,\u001b[0m \u001b[0my_pred\u001b[0m\u001b[1;33m)\u001b[0m\u001b[1;33m\u001b[0m\u001b[1;33m\u001b[0m\u001b[0m\n\u001b[0m\u001b[0;32m    277\u001b[0m     \u001b[1;32mif\u001b[0m \u001b[0my_type\u001b[0m \u001b[1;32mnot\u001b[0m \u001b[1;32min\u001b[0m \u001b[1;33m(\u001b[0m\u001b[1;34m\"binary\"\u001b[0m\u001b[1;33m,\u001b[0m \u001b[1;34m\"multiclass\"\u001b[0m\u001b[1;33m)\u001b[0m\u001b[1;33m:\u001b[0m\u001b[1;33m\u001b[0m\u001b[1;33m\u001b[0m\u001b[0m\n\u001b[0;32m    278\u001b[0m         \u001b[1;32mraise\u001b[0m \u001b[0mValueError\u001b[0m\u001b[1;33m(\u001b[0m\u001b[1;34m\"%s is not supported\"\u001b[0m \u001b[1;33m%\u001b[0m \u001b[0my_type\u001b[0m\u001b[1;33m)\u001b[0m\u001b[1;33m\u001b[0m\u001b[1;33m\u001b[0m\u001b[0m\n",
      "\u001b[1;32mE:\\anaconda\\envs\\tf\\lib\\site-packages\\sklearn\\metrics\\_classification.py\u001b[0m in \u001b[0;36m_check_targets\u001b[1;34m(y_true, y_pred)\u001b[0m\n\u001b[0;32m     79\u001b[0m     \u001b[0my_pred\u001b[0m \u001b[1;33m:\u001b[0m \u001b[0marray\u001b[0m \u001b[1;32mor\u001b[0m \u001b[0mindicator\u001b[0m \u001b[0mmatrix\u001b[0m\u001b[1;33m\u001b[0m\u001b[1;33m\u001b[0m\u001b[0m\n\u001b[0;32m     80\u001b[0m     \"\"\"\n\u001b[1;32m---> 81\u001b[1;33m     \u001b[0mcheck_consistent_length\u001b[0m\u001b[1;33m(\u001b[0m\u001b[0my_true\u001b[0m\u001b[1;33m,\u001b[0m \u001b[0my_pred\u001b[0m\u001b[1;33m)\u001b[0m\u001b[1;33m\u001b[0m\u001b[1;33m\u001b[0m\u001b[0m\n\u001b[0m\u001b[0;32m     82\u001b[0m     \u001b[0mtype_true\u001b[0m \u001b[1;33m=\u001b[0m \u001b[0mtype_of_target\u001b[0m\u001b[1;33m(\u001b[0m\u001b[0my_true\u001b[0m\u001b[1;33m)\u001b[0m\u001b[1;33m\u001b[0m\u001b[1;33m\u001b[0m\u001b[0m\n\u001b[0;32m     83\u001b[0m     \u001b[0mtype_pred\u001b[0m \u001b[1;33m=\u001b[0m \u001b[0mtype_of_target\u001b[0m\u001b[1;33m(\u001b[0m\u001b[0my_pred\u001b[0m\u001b[1;33m)\u001b[0m\u001b[1;33m\u001b[0m\u001b[1;33m\u001b[0m\u001b[0m\n",
      "\u001b[1;32mE:\\anaconda\\envs\\tf\\lib\\site-packages\\sklearn\\utils\\validation.py\u001b[0m in \u001b[0;36mcheck_consistent_length\u001b[1;34m(*arrays)\u001b[0m\n\u001b[0;32m    250\u001b[0m     \"\"\"\n\u001b[0;32m    251\u001b[0m \u001b[1;33m\u001b[0m\u001b[0m\n\u001b[1;32m--> 252\u001b[1;33m     \u001b[0mlengths\u001b[0m \u001b[1;33m=\u001b[0m \u001b[1;33m[\u001b[0m\u001b[0m_num_samples\u001b[0m\u001b[1;33m(\u001b[0m\u001b[0mX\u001b[0m\u001b[1;33m)\u001b[0m \u001b[1;32mfor\u001b[0m \u001b[0mX\u001b[0m \u001b[1;32min\u001b[0m \u001b[0marrays\u001b[0m \u001b[1;32mif\u001b[0m \u001b[0mX\u001b[0m \u001b[1;32mis\u001b[0m \u001b[1;32mnot\u001b[0m \u001b[1;32mNone\u001b[0m\u001b[1;33m]\u001b[0m\u001b[1;33m\u001b[0m\u001b[1;33m\u001b[0m\u001b[0m\n\u001b[0m\u001b[0;32m    253\u001b[0m     \u001b[0muniques\u001b[0m \u001b[1;33m=\u001b[0m \u001b[0mnp\u001b[0m\u001b[1;33m.\u001b[0m\u001b[0munique\u001b[0m\u001b[1;33m(\u001b[0m\u001b[0mlengths\u001b[0m\u001b[1;33m)\u001b[0m\u001b[1;33m\u001b[0m\u001b[1;33m\u001b[0m\u001b[0m\n\u001b[0;32m    254\u001b[0m     \u001b[1;32mif\u001b[0m \u001b[0mlen\u001b[0m\u001b[1;33m(\u001b[0m\u001b[0muniques\u001b[0m\u001b[1;33m)\u001b[0m \u001b[1;33m>\u001b[0m \u001b[1;36m1\u001b[0m\u001b[1;33m:\u001b[0m\u001b[1;33m\u001b[0m\u001b[1;33m\u001b[0m\u001b[0m\n",
      "\u001b[1;32mE:\\anaconda\\envs\\tf\\lib\\site-packages\\sklearn\\utils\\validation.py\u001b[0m in \u001b[0;36m<listcomp>\u001b[1;34m(.0)\u001b[0m\n\u001b[0;32m    250\u001b[0m     \"\"\"\n\u001b[0;32m    251\u001b[0m \u001b[1;33m\u001b[0m\u001b[0m\n\u001b[1;32m--> 252\u001b[1;33m     \u001b[0mlengths\u001b[0m \u001b[1;33m=\u001b[0m \u001b[1;33m[\u001b[0m\u001b[0m_num_samples\u001b[0m\u001b[1;33m(\u001b[0m\u001b[0mX\u001b[0m\u001b[1;33m)\u001b[0m \u001b[1;32mfor\u001b[0m \u001b[0mX\u001b[0m \u001b[1;32min\u001b[0m \u001b[0marrays\u001b[0m \u001b[1;32mif\u001b[0m \u001b[0mX\u001b[0m \u001b[1;32mis\u001b[0m \u001b[1;32mnot\u001b[0m \u001b[1;32mNone\u001b[0m\u001b[1;33m]\u001b[0m\u001b[1;33m\u001b[0m\u001b[1;33m\u001b[0m\u001b[0m\n\u001b[0m\u001b[0;32m    253\u001b[0m     \u001b[0muniques\u001b[0m \u001b[1;33m=\u001b[0m \u001b[0mnp\u001b[0m\u001b[1;33m.\u001b[0m\u001b[0munique\u001b[0m\u001b[1;33m(\u001b[0m\u001b[0mlengths\u001b[0m\u001b[1;33m)\u001b[0m\u001b[1;33m\u001b[0m\u001b[1;33m\u001b[0m\u001b[0m\n\u001b[0;32m    254\u001b[0m     \u001b[1;32mif\u001b[0m \u001b[0mlen\u001b[0m\u001b[1;33m(\u001b[0m\u001b[0muniques\u001b[0m\u001b[1;33m)\u001b[0m \u001b[1;33m>\u001b[0m \u001b[1;36m1\u001b[0m\u001b[1;33m:\u001b[0m\u001b[1;33m\u001b[0m\u001b[1;33m\u001b[0m\u001b[0m\n",
      "\u001b[1;32mE:\\anaconda\\envs\\tf\\lib\\site-packages\\sklearn\\utils\\validation.py\u001b[0m in \u001b[0;36m_num_samples\u001b[1;34m(x)\u001b[0m\n\u001b[0;32m    189\u001b[0m             \u001b[0mx\u001b[0m \u001b[1;33m=\u001b[0m \u001b[0mnp\u001b[0m\u001b[1;33m.\u001b[0m\u001b[0masarray\u001b[0m\u001b[1;33m(\u001b[0m\u001b[0mx\u001b[0m\u001b[1;33m)\u001b[0m\u001b[1;33m\u001b[0m\u001b[1;33m\u001b[0m\u001b[0m\n\u001b[0;32m    190\u001b[0m         \u001b[1;32melse\u001b[0m\u001b[1;33m:\u001b[0m\u001b[1;33m\u001b[0m\u001b[1;33m\u001b[0m\u001b[0m\n\u001b[1;32m--> 191\u001b[1;33m             \u001b[1;32mraise\u001b[0m \u001b[0mTypeError\u001b[0m\u001b[1;33m(\u001b[0m\u001b[0mmessage\u001b[0m\u001b[1;33m)\u001b[0m\u001b[1;33m\u001b[0m\u001b[1;33m\u001b[0m\u001b[0m\n\u001b[0m\u001b[0;32m    192\u001b[0m \u001b[1;33m\u001b[0m\u001b[0m\n\u001b[0;32m    193\u001b[0m     \u001b[1;32mif\u001b[0m \u001b[0mhasattr\u001b[0m\u001b[1;33m(\u001b[0m\u001b[0mx\u001b[0m\u001b[1;33m,\u001b[0m \u001b[1;34m'shape'\u001b[0m\u001b[1;33m)\u001b[0m \u001b[1;32mand\u001b[0m \u001b[0mx\u001b[0m\u001b[1;33m.\u001b[0m\u001b[0mshape\u001b[0m \u001b[1;32mis\u001b[0m \u001b[1;32mnot\u001b[0m \u001b[1;32mNone\u001b[0m\u001b[1;33m:\u001b[0m\u001b[1;33m\u001b[0m\u001b[1;33m\u001b[0m\u001b[0m\n",
      "\u001b[1;31mTypeError\u001b[0m: Expected sequence or array-like, got <class 'method'>"
     ]
    }
   ],
   "source": [
    "cm = confusion_matrix(true_classes, predicted_classes)"
   ]
  },
  {
   "cell_type": "code",
   "execution_count": null,
   "metadata": {},
   "outputs": [],
   "source": [
    "# the classes are the val_true\n",
    "yhat_probs2\n",
    "\n",
    "# val_predics are the predicted classes\n",
    "\n",
    "cm = metrics.confusion_matrix(val_trues, val_preds)"
   ]
  },
  {
   "cell_type": "code",
   "execution_count": 92,
   "metadata": {},
   "outputs": [],
   "source": [
    "yhat_classes=predicted_classes"
   ]
  },
  {
   "cell_type": "code",
   "execution_count": 93,
   "metadata": {},
   "outputs": [
    {
     "data": {
      "text/plain": [
       "104"
      ]
     },
     "execution_count": 93,
     "metadata": {},
     "output_type": "execute_result"
    }
   ],
   "source": [
    "len(yhat_classes)"
   ]
  },
  {
   "cell_type": "code",
   "execution_count": 94,
   "metadata": {},
   "outputs": [
    {
     "data": {
      "text/plain": [
       "104"
      ]
     },
     "execution_count": 94,
     "metadata": {},
     "output_type": "execute_result"
    }
   ],
   "source": [
    "len(predicted_classes)"
   ]
  },
  {
   "cell_type": "code",
   "execution_count": 111,
   "metadata": {},
   "outputs": [],
   "source": [
    "# yhat_probs=loaded_model.predict_generator(test_generator,104)\n",
    "yhat_probs2=loaded_model.predict_generator(test_generator)"
   ]
  },
  {
   "cell_type": "code",
   "execution_count": 113,
   "metadata": {},
   "outputs": [
    {
     "data": {
      "text/plain": [
       "(104, 82)"
      ]
     },
     "execution_count": 113,
     "metadata": {},
     "output_type": "execute_result"
    }
   ],
   "source": [
    "yhat_probs2.shape"
   ]
  },
  {
   "cell_type": "code",
   "execution_count": 98,
   "metadata": {
    "scrolled": true
   },
   "outputs": [
    {
     "data": {
      "text/plain": [
       "array([[1.0141578e-03, 1.0970068e-04, 1.9832596e-06, ..., 1.0108413e-06,\n",
       "        9.4291980e-05, 1.5192594e-04],\n",
       "       [3.0883339e-03, 5.5298128e-04, 1.6529879e-05, ..., 1.0989932e-05,\n",
       "        3.9427201e-04, 1.0575998e-03],\n",
       "       [4.9572093e-03, 7.3558331e-04, 4.8026508e-05, ..., 2.9656901e-05,\n",
       "        8.9781021e-04, 1.1208000e-03],\n",
       "       ...,\n",
       "       [6.0302056e-03, 1.3083252e-03, 9.2624585e-05, ..., 6.0626364e-05,\n",
       "        1.4841647e-03, 1.8395459e-03],\n",
       "       [2.8983527e-03, 4.6871018e-04, 1.5792153e-05, ..., 8.1318949e-06,\n",
       "        3.7492657e-04, 7.0796843e-04],\n",
       "       [9.9576684e-03, 1.0264858e-03, 6.6321780e-05, ..., 3.7167243e-05,\n",
       "        8.8701810e-04, 2.4911917e-03]], dtype=float32)"
      ]
     },
     "execution_count": 98,
     "metadata": {},
     "output_type": "execute_result"
    }
   ],
   "source": [
    "yhat_probs"
   ]
  },
  {
   "cell_type": "markdown",
   "metadata": {},
   "source": [
    "# To ge precision in the model,use the following call back"
   ]
  },
  {
   "cell_type": "code",
   "execution_count": null,
   "metadata": {},
   "outputs": [],
   "source": [
    "# model.compile(optimizer=\"sgd\",\n",
    "#               loss=\"binary_crossentropy\",\n",
    "#               metrics=[keras.metrics.Precision(), keras.metrics.Recall()])"
   ]
  },
  {
   "cell_type": "code",
   "execution_count": null,
   "metadata": {},
   "outputs": [],
   "source": [
    "# metrics=ModelMetrics()\n",
    " \n",
    "# history = model.fit(x_train, y_train,\n",
    "#               batch_size=BATCH_SIZE,\n",
    "#               epochs=2,\n",
    "#               validation_data=(x_val, y_val),\n",
    "#               callbacks=[metrics],\n",
    "#               shuffle=True)\n",
    " \n",
    "# print(metrics.precisions)"
   ]
  },
  {
   "cell_type": "code",
   "execution_count": 105,
   "metadata": {},
   "outputs": [
    {
     "data": {
      "text/plain": [
       "(2704, 82)"
      ]
     },
     "execution_count": 105,
     "metadata": {},
     "output_type": "execute_result"
    }
   ],
   "source": [
    "yhat_probs.shape"
   ]
  },
  {
   "cell_type": "code",
   "execution_count": 99,
   "metadata": {},
   "outputs": [],
   "source": [
    "# reduce to 1d array\n",
    "yhat_probs1 = yhat_probs[:, 0]\n",
    "#yhat_classes = yhat_classes[:, 0]"
   ]
  },
  {
   "cell_type": "code",
   "execution_count": 104,
   "metadata": {},
   "outputs": [
    {
     "data": {
      "text/plain": [
       "(2704,)"
      ]
     },
     "execution_count": 104,
     "metadata": {},
     "output_type": "execute_result"
    }
   ],
   "source": [
    "yhat_probs1.shape"
   ]
  },
  {
   "cell_type": "code",
   "execution_count": 107,
   "metadata": {},
   "outputs": [
    {
     "data": {
      "text/plain": [
       "(150, 150)"
      ]
     },
     "execution_count": 107,
     "metadata": {},
     "output_type": "execute_result"
    }
   ],
   "source": [
    "test_generator.target_size"
   ]
  },
  {
   "cell_type": "code",
   "execution_count": 115,
   "metadata": {},
   "outputs": [
    {
     "data": {
      "text/plain": [
       "(104,)"
      ]
     },
     "execution_count": 115,
     "metadata": {},
     "output_type": "execute_result"
    }
   ],
   "source": [
    "yhat_classes.shape"
   ]
  },
  {
   "cell_type": "code",
   "execution_count": 109,
   "metadata": {},
   "outputs": [],
   "source": [
    "from sklearn.metrics import precision_score"
   ]
  },
  {
   "cell_type": "code",
   "execution_count": 114,
   "metadata": {},
   "outputs": [
    {
     "ename": "ValueError",
     "evalue": "Found input variables with inconsistent numbers of samples: [4, 104]",
     "output_type": "error",
     "traceback": [
      "\u001b[1;31m---------------------------------------------------------------------------\u001b[0m",
      "\u001b[1;31mValueError\u001b[0m                                Traceback (most recent call last)",
      "\u001b[1;32m<ipython-input-114-4678592cd135>\u001b[0m in \u001b[0;36m<module>\u001b[1;34m\u001b[0m\n\u001b[1;32m----> 1\u001b[1;33m \u001b[0mprecision\u001b[0m \u001b[1;33m=\u001b[0m \u001b[0mprecision_score\u001b[0m\u001b[1;33m(\u001b[0m\u001b[0mtest_generator\u001b[0m\u001b[1;33m,\u001b[0m \u001b[0myhat_classes\u001b[0m\u001b[1;33m)\u001b[0m\u001b[1;33m\u001b[0m\u001b[1;33m\u001b[0m\u001b[0m\n\u001b[0m\u001b[0;32m      2\u001b[0m \u001b[0mprint\u001b[0m\u001b[1;33m(\u001b[0m\u001b[1;34m'Precision: %f'\u001b[0m \u001b[1;33m%\u001b[0m \u001b[0mprecision\u001b[0m\u001b[1;33m)\u001b[0m\u001b[1;33m\u001b[0m\u001b[1;33m\u001b[0m\u001b[0m\n\u001b[0;32m      3\u001b[0m \u001b[1;31m# recall: tp / (tp + fn)\u001b[0m\u001b[1;33m\u001b[0m\u001b[1;33m\u001b[0m\u001b[1;33m\u001b[0m\u001b[0m\n\u001b[0;32m      4\u001b[0m \u001b[0mrecall\u001b[0m \u001b[1;33m=\u001b[0m \u001b[0mrecall_score\u001b[0m\u001b[1;33m(\u001b[0m\u001b[0mtest_generator\u001b[0m\u001b[1;33m,\u001b[0m \u001b[0myhat_classes\u001b[0m\u001b[1;33m)\u001b[0m\u001b[1;33m\u001b[0m\u001b[1;33m\u001b[0m\u001b[0m\n\u001b[0;32m      5\u001b[0m \u001b[0mprint\u001b[0m\u001b[1;33m(\u001b[0m\u001b[1;34m'Recall: %f'\u001b[0m \u001b[1;33m%\u001b[0m \u001b[0mrecall\u001b[0m\u001b[1;33m)\u001b[0m\u001b[1;33m\u001b[0m\u001b[1;33m\u001b[0m\u001b[0m\n",
      "\u001b[1;32mE:\\anaconda\\envs\\tf\\lib\\site-packages\\sklearn\\utils\\validation.py\u001b[0m in \u001b[0;36minner_f\u001b[1;34m(*args, **kwargs)\u001b[0m\n\u001b[0;32m     70\u001b[0m                           FutureWarning)\n\u001b[0;32m     71\u001b[0m         \u001b[0mkwargs\u001b[0m\u001b[1;33m.\u001b[0m\u001b[0mupdate\u001b[0m\u001b[1;33m(\u001b[0m\u001b[1;33m{\u001b[0m\u001b[0mk\u001b[0m\u001b[1;33m:\u001b[0m \u001b[0marg\u001b[0m \u001b[1;32mfor\u001b[0m \u001b[0mk\u001b[0m\u001b[1;33m,\u001b[0m \u001b[0marg\u001b[0m \u001b[1;32min\u001b[0m \u001b[0mzip\u001b[0m\u001b[1;33m(\u001b[0m\u001b[0msig\u001b[0m\u001b[1;33m.\u001b[0m\u001b[0mparameters\u001b[0m\u001b[1;33m,\u001b[0m \u001b[0margs\u001b[0m\u001b[1;33m)\u001b[0m\u001b[1;33m}\u001b[0m\u001b[1;33m)\u001b[0m\u001b[1;33m\u001b[0m\u001b[1;33m\u001b[0m\u001b[0m\n\u001b[1;32m---> 72\u001b[1;33m         \u001b[1;32mreturn\u001b[0m \u001b[0mf\u001b[0m\u001b[1;33m(\u001b[0m\u001b[1;33m**\u001b[0m\u001b[0mkwargs\u001b[0m\u001b[1;33m)\u001b[0m\u001b[1;33m\u001b[0m\u001b[1;33m\u001b[0m\u001b[0m\n\u001b[0m\u001b[0;32m     73\u001b[0m     \u001b[1;32mreturn\u001b[0m \u001b[0minner_f\u001b[0m\u001b[1;33m\u001b[0m\u001b[1;33m\u001b[0m\u001b[0m\n\u001b[0;32m     74\u001b[0m \u001b[1;33m\u001b[0m\u001b[0m\n",
      "\u001b[1;32mE:\\anaconda\\envs\\tf\\lib\\site-packages\\sklearn\\metrics\\_classification.py\u001b[0m in \u001b[0;36mprecision_score\u001b[1;34m(y_true, y_pred, labels, pos_label, average, sample_weight, zero_division)\u001b[0m\n\u001b[0;32m   1621\u001b[0m                                                  \u001b[0mwarn_for\u001b[0m\u001b[1;33m=\u001b[0m\u001b[1;33m(\u001b[0m\u001b[1;34m'precision'\u001b[0m\u001b[1;33m,\u001b[0m\u001b[1;33m)\u001b[0m\u001b[1;33m,\u001b[0m\u001b[1;33m\u001b[0m\u001b[1;33m\u001b[0m\u001b[0m\n\u001b[0;32m   1622\u001b[0m                                                  \u001b[0msample_weight\u001b[0m\u001b[1;33m=\u001b[0m\u001b[0msample_weight\u001b[0m\u001b[1;33m,\u001b[0m\u001b[1;33m\u001b[0m\u001b[1;33m\u001b[0m\u001b[0m\n\u001b[1;32m-> 1623\u001b[1;33m                                                  zero_division=zero_division)\n\u001b[0m\u001b[0;32m   1624\u001b[0m     \u001b[1;32mreturn\u001b[0m \u001b[0mp\u001b[0m\u001b[1;33m\u001b[0m\u001b[1;33m\u001b[0m\u001b[0m\n\u001b[0;32m   1625\u001b[0m \u001b[1;33m\u001b[0m\u001b[0m\n",
      "\u001b[1;32mE:\\anaconda\\envs\\tf\\lib\\site-packages\\sklearn\\utils\\validation.py\u001b[0m in \u001b[0;36minner_f\u001b[1;34m(*args, **kwargs)\u001b[0m\n\u001b[0;32m     70\u001b[0m                           FutureWarning)\n\u001b[0;32m     71\u001b[0m         \u001b[0mkwargs\u001b[0m\u001b[1;33m.\u001b[0m\u001b[0mupdate\u001b[0m\u001b[1;33m(\u001b[0m\u001b[1;33m{\u001b[0m\u001b[0mk\u001b[0m\u001b[1;33m:\u001b[0m \u001b[0marg\u001b[0m \u001b[1;32mfor\u001b[0m \u001b[0mk\u001b[0m\u001b[1;33m,\u001b[0m \u001b[0marg\u001b[0m \u001b[1;32min\u001b[0m \u001b[0mzip\u001b[0m\u001b[1;33m(\u001b[0m\u001b[0msig\u001b[0m\u001b[1;33m.\u001b[0m\u001b[0mparameters\u001b[0m\u001b[1;33m,\u001b[0m \u001b[0margs\u001b[0m\u001b[1;33m)\u001b[0m\u001b[1;33m}\u001b[0m\u001b[1;33m)\u001b[0m\u001b[1;33m\u001b[0m\u001b[1;33m\u001b[0m\u001b[0m\n\u001b[1;32m---> 72\u001b[1;33m         \u001b[1;32mreturn\u001b[0m \u001b[0mf\u001b[0m\u001b[1;33m(\u001b[0m\u001b[1;33m**\u001b[0m\u001b[0mkwargs\u001b[0m\u001b[1;33m)\u001b[0m\u001b[1;33m\u001b[0m\u001b[1;33m\u001b[0m\u001b[0m\n\u001b[0m\u001b[0;32m     73\u001b[0m     \u001b[1;32mreturn\u001b[0m \u001b[0minner_f\u001b[0m\u001b[1;33m\u001b[0m\u001b[1;33m\u001b[0m\u001b[0m\n\u001b[0;32m     74\u001b[0m \u001b[1;33m\u001b[0m\u001b[0m\n",
      "\u001b[1;32mE:\\anaconda\\envs\\tf\\lib\\site-packages\\sklearn\\metrics\\_classification.py\u001b[0m in \u001b[0;36mprecision_recall_fscore_support\u001b[1;34m(y_true, y_pred, beta, labels, pos_label, average, warn_for, sample_weight, zero_division)\u001b[0m\n\u001b[0;32m   1432\u001b[0m         \u001b[1;32mraise\u001b[0m \u001b[0mValueError\u001b[0m\u001b[1;33m(\u001b[0m\u001b[1;34m\"beta should be >=0 in the F-beta score\"\u001b[0m\u001b[1;33m)\u001b[0m\u001b[1;33m\u001b[0m\u001b[1;33m\u001b[0m\u001b[0m\n\u001b[0;32m   1433\u001b[0m     labels = _check_set_wise_labels(y_true, y_pred, average, labels,\n\u001b[1;32m-> 1434\u001b[1;33m                                     pos_label)\n\u001b[0m\u001b[0;32m   1435\u001b[0m \u001b[1;33m\u001b[0m\u001b[0m\n\u001b[0;32m   1436\u001b[0m     \u001b[1;31m# Calculate tp_sum, pred_sum, true_sum ###\u001b[0m\u001b[1;33m\u001b[0m\u001b[1;33m\u001b[0m\u001b[1;33m\u001b[0m\u001b[0m\n",
      "\u001b[1;32mE:\\anaconda\\envs\\tf\\lib\\site-packages\\sklearn\\metrics\\_classification.py\u001b[0m in \u001b[0;36m_check_set_wise_labels\u001b[1;34m(y_true, y_pred, average, labels, pos_label)\u001b[0m\n\u001b[0;32m   1248\u001b[0m                          str(average_options))\n\u001b[0;32m   1249\u001b[0m \u001b[1;33m\u001b[0m\u001b[0m\n\u001b[1;32m-> 1250\u001b[1;33m     \u001b[0my_type\u001b[0m\u001b[1;33m,\u001b[0m \u001b[0my_true\u001b[0m\u001b[1;33m,\u001b[0m \u001b[0my_pred\u001b[0m \u001b[1;33m=\u001b[0m \u001b[0m_check_targets\u001b[0m\u001b[1;33m(\u001b[0m\u001b[0my_true\u001b[0m\u001b[1;33m,\u001b[0m \u001b[0my_pred\u001b[0m\u001b[1;33m)\u001b[0m\u001b[1;33m\u001b[0m\u001b[1;33m\u001b[0m\u001b[0m\n\u001b[0m\u001b[0;32m   1251\u001b[0m     \u001b[0mpresent_labels\u001b[0m \u001b[1;33m=\u001b[0m \u001b[0munique_labels\u001b[0m\u001b[1;33m(\u001b[0m\u001b[0my_true\u001b[0m\u001b[1;33m,\u001b[0m \u001b[0my_pred\u001b[0m\u001b[1;33m)\u001b[0m\u001b[1;33m\u001b[0m\u001b[1;33m\u001b[0m\u001b[0m\n\u001b[0;32m   1252\u001b[0m     \u001b[1;32mif\u001b[0m \u001b[0maverage\u001b[0m \u001b[1;33m==\u001b[0m \u001b[1;34m'binary'\u001b[0m\u001b[1;33m:\u001b[0m\u001b[1;33m\u001b[0m\u001b[1;33m\u001b[0m\u001b[0m\n",
      "\u001b[1;32mE:\\anaconda\\envs\\tf\\lib\\site-packages\\sklearn\\metrics\\_classification.py\u001b[0m in \u001b[0;36m_check_targets\u001b[1;34m(y_true, y_pred)\u001b[0m\n\u001b[0;32m     79\u001b[0m     \u001b[0my_pred\u001b[0m \u001b[1;33m:\u001b[0m \u001b[0marray\u001b[0m \u001b[1;32mor\u001b[0m \u001b[0mindicator\u001b[0m \u001b[0mmatrix\u001b[0m\u001b[1;33m\u001b[0m\u001b[1;33m\u001b[0m\u001b[0m\n\u001b[0;32m     80\u001b[0m     \"\"\"\n\u001b[1;32m---> 81\u001b[1;33m     \u001b[0mcheck_consistent_length\u001b[0m\u001b[1;33m(\u001b[0m\u001b[0my_true\u001b[0m\u001b[1;33m,\u001b[0m \u001b[0my_pred\u001b[0m\u001b[1;33m)\u001b[0m\u001b[1;33m\u001b[0m\u001b[1;33m\u001b[0m\u001b[0m\n\u001b[0m\u001b[0;32m     82\u001b[0m     \u001b[0mtype_true\u001b[0m \u001b[1;33m=\u001b[0m \u001b[0mtype_of_target\u001b[0m\u001b[1;33m(\u001b[0m\u001b[0my_true\u001b[0m\u001b[1;33m)\u001b[0m\u001b[1;33m\u001b[0m\u001b[1;33m\u001b[0m\u001b[0m\n\u001b[0;32m     83\u001b[0m     \u001b[0mtype_pred\u001b[0m \u001b[1;33m=\u001b[0m \u001b[0mtype_of_target\u001b[0m\u001b[1;33m(\u001b[0m\u001b[0my_pred\u001b[0m\u001b[1;33m)\u001b[0m\u001b[1;33m\u001b[0m\u001b[1;33m\u001b[0m\u001b[0m\n",
      "\u001b[1;32mE:\\anaconda\\envs\\tf\\lib\\site-packages\\sklearn\\utils\\validation.py\u001b[0m in \u001b[0;36mcheck_consistent_length\u001b[1;34m(*arrays)\u001b[0m\n\u001b[0;32m    254\u001b[0m     \u001b[1;32mif\u001b[0m \u001b[0mlen\u001b[0m\u001b[1;33m(\u001b[0m\u001b[0muniques\u001b[0m\u001b[1;33m)\u001b[0m \u001b[1;33m>\u001b[0m \u001b[1;36m1\u001b[0m\u001b[1;33m:\u001b[0m\u001b[1;33m\u001b[0m\u001b[1;33m\u001b[0m\u001b[0m\n\u001b[0;32m    255\u001b[0m         raise ValueError(\"Found input variables with inconsistent numbers of\"\n\u001b[1;32m--> 256\u001b[1;33m                          \" samples: %r\" % [int(l) for l in lengths])\n\u001b[0m\u001b[0;32m    257\u001b[0m \u001b[1;33m\u001b[0m\u001b[0m\n\u001b[0;32m    258\u001b[0m \u001b[1;33m\u001b[0m\u001b[0m\n",
      "\u001b[1;31mValueError\u001b[0m: Found input variables with inconsistent numbers of samples: [4, 104]"
     ]
    }
   ],
   "source": [
    "precision = precision_score(test_generator, yhat_classes)\n",
    "print('Precision: %f' % precision)\n",
    "# recall: tp / (tp + fn)\n",
    "recall = recall_score(test_generator, yhat_classes)\n",
    "print('Recall: %f' % recall)"
   ]
  },
  {
   "cell_type": "code",
   "execution_count": null,
   "metadata": {},
   "outputs": [],
   "source": []
  }
 ],
 "metadata": {
  "accelerator": "GPU",
  "colab": {
   "collapsed_sections": [],
   "name": "Objective-2 Time Invariant Aging Model and Face Recognition(August 08)",
   "provenance": []
  },
  "kernelspec": {
   "display_name": "Python 3",
   "language": "python",
   "name": "python3"
  },
  "language_info": {
   "codemirror_mode": {
    "name": "ipython",
    "version": 3
   },
   "file_extension": ".py",
   "mimetype": "text/x-python",
   "name": "python",
   "nbconvert_exporter": "python",
   "pygments_lexer": "ipython3",
   "version": "3.6.10"
  }
 },
 "nbformat": 4,
 "nbformat_minor": 1
}
